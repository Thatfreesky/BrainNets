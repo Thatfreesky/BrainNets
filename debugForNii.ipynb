{
 "cells": [
  {
   "cell_type": "code",
   "execution_count": 1,
   "metadata": {},
   "outputs": [
    {
     "name": "stdout",
     "output_type": "stream",
     "text": [
      "../forOnceRunning/dilated3DNetForNii/17-08-31_22:06:48/17-08-31_22:06:48dilated3DNetForNii.log\n"
     ]
    }
   ],
   "source": [
    "from datetime import datetime\n",
    "import utils.general as ge\n",
    "reload(ge)\n",
    "\n",
    "import os\n",
    "\n",
    "modelType = 'dilated3DNetForNii'\n",
    "\n",
    "outputDir = os.path.join('../forOnceRunning/', modelType)\n",
    "ge.makeDir(outputDir)\n",
    "\n",
    "timeString = datetime.now().strftime('%y-%m-%d_%H:%M:%S')\n",
    "onceRunningDir = os.path.join(outputDir, timeString)\n",
    "ge.makeDir(onceRunningDir)\n",
    "\n",
    "testResultDir = os.path.join(onceRunningDir, 'testResult')\n",
    "ge.makeDir(testResultDir)\n",
    "\n",
    "testResultDir2 = os.path.join(onceRunningDir, 'testResult2')\n",
    "ge.makeDir(testResultDir2)\n",
    "\n",
    "valResultDir = os.path.join(onceRunningDir, 'valResult')\n",
    "ge.makeDir(valResultDir)\n",
    "\n",
    "weightDir = os.path.join(onceRunningDir, 'weight')\n",
    "ge.makeDir(weightDir)\n",
    "\n",
    "logFileName = timeString + '{}.log'.format(modelType)\n",
    "logFileName = os.path.join(onceRunningDir, logFileName)\n",
    "\n",
    "print logFileName\n",
    "\n",
    "import logging\n",
    "logging.basicConfig(filename = logFileName, \n",
    "                    filemode='w', \n",
    "                    format = '%(name)s %(lineno)d %(levelname)s:%(message)s', \n",
    "                    level = logging.INFO)\n",
    "logger = logging.getLogger('Jupyter Notebook')"
   ]
  },
  {
   "cell_type": "code",
   "execution_count": 2,
   "metadata": {
    "scrolled": true
   },
   "outputs": [
    {
     "name": "stderr",
     "output_type": "stream",
     "text": [
      "Using cuDNN version 6020 on context None\n",
      "Mapped name None to device cuda0: GeForce GTX 750 Ti (0000:01:00.0)\n"
     ]
    }
   ],
   "source": [
    "import utils.createROIMaskForNii as crn\n",
    "reload(crn)\n",
    "# import utils.sampling as sp\n",
    "# reload(sp)\n",
    "# import models.baseNet as bn\n",
    "# reload(bn)\n",
    "# from models.Layers import DilatedConv3DLayer\n",
    "import generateTrainTestNetworkForNiiData as gtt\n",
    "\n",
    "import time\n",
    "import theano\n",
    "import numpy as np\n",
    "import nibabel as nib\n",
    "import matplotlib.pyplot as plt\n",
    "# from tqdm import tqdm_notebook\n",
    "\n",
    "%matplotlib inline "
   ]
  },
  {
   "cell_type": "code",
   "execution_count": 3,
   "metadata": {
    "scrolled": false
   },
   "outputs": [
    {
     "data": {
      "text/plain": [
       "<module 'generateTrainTestNetworkForNiiData' from 'generateTrainTestNetworkForNiiData.pyc'>"
      ]
     },
     "execution_count": 3,
     "metadata": {},
     "output_type": "execute_result"
    }
   ],
   "source": [
    "reload(gtt)"
   ]
  },
  {
   "cell_type": "code",
   "execution_count": 4,
   "metadata": {
    "collapsed": true
   },
   "outputs": [],
   "source": [
    "configFile = '/home/mountain/Desktop/BrainNets/code/configs/{}.cfg'.format(modelType)"
   ]
  },
  {
   "cell_type": "code",
   "execution_count": 5,
   "metadata": {},
   "outputs": [
    {
     "data": {
      "text/plain": [
       "'/home/mountain/Desktop/BrainNets/code/configs/dilated3DNetForNii.cfg'"
      ]
     },
     "execution_count": 5,
     "metadata": {},
     "output_type": "execute_result"
    }
   ],
   "source": [
    "configFile"
   ]
  },
  {
   "cell_type": "code",
   "execution_count": null,
   "metadata": {
    "collapsed": true
   },
   "outputs": [],
   "source": []
  },
  {
   "cell_type": "code",
   "execution_count": 6,
   "metadata": {
    "scrolled": true
   },
   "outputs": [
    {
     "name": "stdout",
     "output_type": "stream",
     "text": [
      "Shape.0 Subtensor{int64}.0\n"
     ]
    }
   ],
   "source": [
    "baseNet = gtt.generateNetwork(configFile, onceRunningDir)"
   ]
  },
  {
   "cell_type": "code",
   "execution_count": null,
   "metadata": {
    "collapsed": true
   },
   "outputs": [],
   "source": []
  },
  {
   "cell_type": "code",
   "execution_count": null,
   "metadata": {
    "collapsed": true
   },
   "outputs": [],
   "source": []
  },
  {
   "cell_type": "code",
   "execution_count": 7,
   "metadata": {
    "scrolled": true
   },
   "outputs": [
    {
     "name": "stdout",
     "output_type": "stream",
     "text": [
      "Shape.0 Subtensor{int64}.0\n"
     ]
    }
   ],
   "source": [
    "trainTRowList, valTRowList = gtt.trainNetwork(baseNet, configFile)"
   ]
  },
  {
   "cell_type": "code",
   "execution_count": 8,
   "metadata": {
    "collapsed": true,
    "scrolled": true
   },
   "outputs": [],
   "source": [
    "trainLossList = []\n",
    "trainACCList = []\n",
    "\n",
    "for row in trainTRowList:\n",
    "    if isinstance(row[1], int):\n",
    "        trainLossList.append(row[3])\n",
    "        trainACCList.append(row[4])"
   ]
  },
  {
   "cell_type": "code",
   "execution_count": 9,
   "metadata": {},
   "outputs": [
    {
     "data": {
      "image/png": "[encoded data removed]",
      "text/plain": [
       "<matplotlib.figure.Figure at 0x7ff42ab53d10>"
      ]
     },
     "metadata": {},
     "output_type": "display_data"
    }
   ],
   "source": [
    "plt.plot(trainLossList)\n",
    "plt.plot(trainACCList)\n",
    "plt.show()"
   ]
  },
  {
   "cell_type": "code",
   "execution_count": 10,
   "metadata": {
    "collapsed": true
   },
   "outputs": [],
   "source": [
    "valCTDiceList = []\n",
    "valCTSensList = []\n",
    "valCTSpecList = []\n",
    "\n",
    "valCoreDiceList = []\n",
    "valCoreSensList = []\n",
    "valCoreSpecList = []\n",
    "\n",
    "valEhDiceList = []\n",
    "valEhSensList = []\n",
    "valEhSpecList = []\n",
    "\n",
    "for row in valTRowList:\n",
    "    if isinstance(row[1], int):\n",
    "        valCTDiceList.append(row[3])\n",
    "        valCTSensList.append(row[4])\n",
    "        valCTSpecList.append(row[5])\n",
    "\n",
    "        valCoreDiceList.append(row[6])\n",
    "        valCoreSensList.append(row[7])\n",
    "        valCoreSpecList.append(row[8])\n",
    "\n",
    "        valEhDiceList.append(row[9])\n",
    "        valEhSensList.append(row[10])\n",
    "        valEhSpecList.append(row[11])"
   ]
  },
  {
   "cell_type": "code",
   "execution_count": 11,
   "metadata": {},
   "outputs": [
    {
     "data": {
      "image/png": "[encoded data removed]",
      "text/plain": [
       "<matplotlib.figure.Figure at 0x7ff4110caa50>"
      ]
     },
     "metadata": {},
     "output_type": "display_data"
    }
   ],
   "source": [
    "plt.plot(valCTDiceList)\n",
    "plt.plot(valCoreDiceList)\n",
    "plt.plot(valEhDiceList)\n",
    "plt.show()"
   ]
  },
  {
   "cell_type": "code",
   "execution_count": 12,
   "metadata": {},
   "outputs": [
    {
     "data": {
      "image/png": "[encoded data removed]",
      "text/plain": [
       "<matplotlib.figure.Figure at 0x7ff40eb4bad0>"
      ]
     },
     "metadata": {},
     "output_type": "display_data"
    }
   ],
   "source": [
    "plt.plot(valCTSensList)\n",
    "plt.plot(valCoreSensList)\n",
    "plt.plot(valEhSensList)\n",
    "plt.show()"
   ]
  },
  {
   "cell_type": "code",
   "execution_count": 13,
   "metadata": {},
   "outputs": [
    {
     "data": {
      "image/png": "[encoded data removed]",
      "text/plain": [
       "<matplotlib.figure.Figure at 0x7ff40ed09350>"
      ]
     },
     "metadata": {},
     "output_type": "display_data"
    }
   ],
   "source": [
    "plt.plot(valCTSpecList)\n",
    "plt.plot(valCoreSpecList)\n",
    "plt.plot(valEhSpecList)\n",
    "plt.show()"
   ]
  },
  {
   "cell_type": "code",
   "execution_count": 14,
   "metadata": {
    "scrolled": true
   },
   "outputs": [
    {
     "data": {
      "text/plain": [
       "<module 'generateTrainTestNetworkForNiiData' from 'generateTrainTestNetworkForNiiData.pyc'>"
      ]
     },
     "execution_count": 14,
     "metadata": {},
     "output_type": "execute_result"
    }
   ],
   "source": [
    "reload(gtt)"
   ]
  },
  {
   "cell_type": "code",
   "execution_count": 7,
   "metadata": {
    "scrolled": true
   },
   "outputs": [
    {
     "name": "stdout",
     "output_type": "stream",
     "text": [
      "Shape.0 Subtensor{int64}.0\n"
     ]
    }
   ],
   "source": [
    "gtt.testNetwork(baseNet, configFile)"
   ]
  },
  {
   "cell_type": "code",
   "execution_count": null,
   "metadata": {
    "collapsed": true
   },
   "outputs": [],
   "source": []
  },
  {
   "cell_type": "code",
   "execution_count": null,
   "metadata": {
    "collapsed": true
   },
   "outputs": [],
   "source": [
    "configFile2 = '/home/mountain/Desktop/BrainNets/code/configs/{}2.cfg'.format(modelType)"
   ]
  },
  {
   "cell_type": "code",
   "execution_count": null,
   "metadata": {
    "collapsed": true
   },
   "outputs": [],
   "source": [
    "baseNet2 = gtt.generateNetwork(configFile2, onceRunningDir)"
   ]
  },
  {
   "cell_type": "code",
   "execution_count": null,
   "metadata": {
    "collapsed": true,
    "scrolled": true
   },
   "outputs": [],
   "source": [
    "trainTRowList2, valTRowList2 = gtt.trainNetwork(baseNet2, configFile2)"
   ]
  },
  {
   "cell_type": "code",
   "execution_count": null,
   "metadata": {
    "collapsed": true
   },
   "outputs": [],
   "source": []
  },
  {
   "cell_type": "code",
   "execution_count": null,
   "metadata": {
    "collapsed": true
   },
   "outputs": [],
   "source": []
  },
  {
   "cell_type": "code",
   "execution_count": null,
   "metadata": {
    "collapsed": true
   },
   "outputs": [],
   "source": [
    "gtt.testNetwork(baseNet2, configFile2)"
   ]
  },
  {
   "cell_type": "code",
   "execution_count": null,
   "metadata": {
    "collapsed": true
   },
   "outputs": [],
   "source": []
  },
  {
   "cell_type": "code",
   "execution_count": null,
   "metadata": {
    "collapsed": true
   },
   "outputs": [],
   "source": []
  },
  {
   "cell_type": "code",
   "execution_count": null,
   "metadata": {
    "collapsed": true
   },
   "outputs": [],
   "source": []
  },
  {
   "cell_type": "code",
   "execution_count": null,
   "metadata": {
    "collapsed": true
   },
   "outputs": [],
   "source": [
    "os.path.join('/abc', 'ds')"
   ]
  },
  {
   "cell_type": "code",
   "execution_count": null,
   "metadata": {
    "collapsed": true
   },
   "outputs": [],
   "source": []
  },
  {
   "cell_type": "code",
   "execution_count": null,
   "metadata": {
    "collapsed": true
   },
   "outputs": [],
   "source": []
  },
  {
   "cell_type": "code",
   "execution_count": null,
   "metadata": {
    "collapsed": true
   },
   "outputs": [],
   "source": [
    "dataPath = '/home/mountain/Desktop/BrainNets/data/BRATS2015_Training'"
   ]
  },
  {
   "cell_type": "code",
   "execution_count": null,
   "metadata": {
    "collapsed": true
   },
   "outputs": [],
   "source": [
    "dataPath = '/home/mountain/Desktop/BrainNets/data/SimpleExploreSomeData'"
   ]
  },
  {
   "cell_type": "code",
   "execution_count": null,
   "metadata": {
    "collapsed": true
   },
   "outputs": [],
   "source": [
    "outputPath = '/home/mountain/Desktop/BrainNets/data/normTrainingDataWithROI'"
   ]
  },
  {
   "cell_type": "code",
   "execution_count": null,
   "metadata": {
    "collapsed": true
   },
   "outputs": [],
   "source": [
    "cr.normAndCreateROIForAllFiles(dataPath, outputPath)"
   ]
  },
  {
   "cell_type": "code",
   "execution_count": null,
   "metadata": {
    "collapsed": true
   },
   "outputs": [],
   "source": []
  },
  {
   "cell_type": "code",
   "execution_count": null,
   "metadata": {
    "collapsed": true
   },
   "outputs": [],
   "source": [
    "import utils.createROIMaskForNii as crn\n",
    "reload(crn)"
   ]
  },
  {
   "cell_type": "code",
   "execution_count": null,
   "metadata": {
    "collapsed": true
   },
   "outputs": [],
   "source": [
    "dataPath = '/home/mountain/Desktop/BrainNets/data/SimpleExploreSomeNiiData'"
   ]
  },
  {
   "cell_type": "code",
   "execution_count": null,
   "metadata": {
    "collapsed": true
   },
   "outputs": [],
   "source": [
    "dataPath = '/home/mountain/Desktop/BrainNets/data/Brats17TrainingData'"
   ]
  },
  {
   "cell_type": "code",
   "execution_count": null,
   "metadata": {
    "collapsed": true
   },
   "outputs": [],
   "source": [
    "outputPath = '/home/mountain/Desktop/BrainNets/data/normNiiTrainingDataWithROI'"
   ]
  },
  {
   "cell_type": "code",
   "execution_count": null,
   "metadata": {
    "collapsed": true
   },
   "outputs": [],
   "source": [
    "crn.normAndCreateROIForAllFiles(dataPath, outputPath)"
   ]
  },
  {
   "cell_type": "code",
   "execution_count": null,
   "metadata": {
    "collapsed": true
   },
   "outputs": [],
   "source": []
  },
  {
   "cell_type": "code",
   "execution_count": null,
   "metadata": {
    "collapsed": true
   },
   "outputs": [],
   "source": [
    "testDataPath  ='/home/mountain/Desktop/BrainNets/data/Brats17ValidationData'"
   ]
  },
  {
   "cell_type": "code",
   "execution_count": null,
   "metadata": {
    "collapsed": true
   },
   "outputs": [],
   "source": [
    "testDataOutputPath = '/home/mountain/Desktop/BrainNets/data/normNiiTestDataWithROI'"
   ]
  },
  {
   "cell_type": "code",
   "execution_count": null,
   "metadata": {
    "collapsed": true
   },
   "outputs": [],
   "source": [
    "crn.normAndCreateROIForAllFiles(testDataPath, testDataOutputPath, True)"
   ]
  },
  {
   "cell_type": "code",
   "execution_count": null,
   "metadata": {
    "collapsed": true
   },
   "outputs": [],
   "source": []
  },
  {
   "cell_type": "code",
   "execution_count": null,
   "metadata": {
    "collapsed": true
   },
   "outputs": [],
   "source": []
  },
  {
   "cell_type": "code",
   "execution_count": null,
   "metadata": {
    "collapsed": true
   },
   "outputs": [],
   "source": [
    "testDataPath  ='/home/mountain/Desktop/BrainNets/data/Testing'"
   ]
  },
  {
   "cell_type": "code",
   "execution_count": null,
   "metadata": {
    "collapsed": true
   },
   "outputs": [],
   "source": [
    "testDataOutputPath = '/home/mountain/Desktop/BrainNets/data/normTestDataWithROI'"
   ]
  },
  {
   "cell_type": "code",
   "execution_count": null,
   "metadata": {
    "collapsed": true
   },
   "outputs": [],
   "source": [
    "cr.normAndCreateROIForAllFiles(testDataPath, testDataOutputPath, True)"
   ]
  },
  {
   "cell_type": "code",
   "execution_count": null,
   "metadata": {
    "collapsed": true
   },
   "outputs": [],
   "source": [
    "a = []"
   ]
  },
  {
   "cell_type": "code",
   "execution_count": null,
   "metadata": {
    "collapsed": true
   },
   "outputs": [],
   "source": [
    "a[2:3]"
   ]
  },
  {
   "cell_type": "code",
   "execution_count": null,
   "metadata": {
    "collapsed": true
   },
   "outputs": [],
   "source": [
    "a[0]"
   ]
  },
  {
   "cell_type": "code",
   "execution_count": null,
   "metadata": {
    "collapsed": true
   },
   "outputs": [],
   "source": []
  },
  {
   "cell_type": "code",
   "execution_count": null,
   "metadata": {
    "collapsed": true,
    "scrolled": true
   },
   "outputs": [],
   "source": [
    "import utils.loadNiiData as lni\n",
    "reload(lni)"
   ]
  },
  {
   "cell_type": "code",
   "execution_count": null,
   "metadata": {
    "collapsed": true
   },
   "outputs": [],
   "source": [
    "patientDir = '/home/mountain/Desktop/BrainNets/data/normNiiTrainingDataWithROI/HGG/Brats17_2013_13_1'"
   ]
  },
  {
   "cell_type": "code",
   "execution_count": null,
   "metadata": {
    "collapsed": true,
    "scrolled": true
   },
   "outputs": [],
   "source": [
    "arrays = lni.loadSinglePatientData(patientDir)"
   ]
  },
  {
   "cell_type": "code",
   "execution_count": null,
   "metadata": {
    "collapsed": true
   },
   "outputs": [],
   "source": [
    "image = arrays[0]"
   ]
  },
  {
   "cell_type": "code",
   "execution_count": null,
   "metadata": {
    "collapsed": true
   },
   "outputs": [],
   "source": [
    "image.shape"
   ]
  },
  {
   "cell_type": "code",
   "execution_count": null,
   "metadata": {
    "collapsed": true,
    "scrolled": false
   },
   "outputs": [],
   "source": [
    "import utils.sampleNii as sni\n",
    "reload(sni)"
   ]
  },
  {
   "cell_type": "code",
   "execution_count": null,
   "metadata": {
    "collapsed": true
   },
   "outputs": [],
   "source": [
    "samples = sni.sampleWholeBrain(patientDir, \n",
    "                               'normImage', \n",
    "                               ['t1ce', 't1', 't2', 'flair'], \n",
    "                               [17, 17, 17], \n",
    "                               15,\n",
    "                               False, \n",
    "                               True)"
   ]
  },
  {
   "cell_type": "code",
   "execution_count": null,
   "metadata": {
    "collapsed": true,
    "scrolled": true
   },
   "outputs": [],
   "source": [
    "len(samples)"
   ]
  },
  {
   "cell_type": "code",
   "execution_count": null,
   "metadata": {
    "collapsed": true
   },
   "outputs": [],
   "source": [
    "len(samples[0])"
   ]
  },
  {
   "cell_type": "code",
   "execution_count": null,
   "metadata": {
    "collapsed": true
   },
   "outputs": [],
   "source": [
    "samples[-1]"
   ]
  },
  {
   "cell_type": "code",
   "execution_count": null,
   "metadata": {
    "collapsed": true
   },
   "outputs": [],
   "source": [
    "del samples"
   ]
  },
  {
   "cell_type": "code",
   "execution_count": null,
   "metadata": {
    "collapsed": true
   },
   "outputs": [],
   "source": [
    "patientsDirList = []"
   ]
  },
  {
   "cell_type": "code",
   "execution_count": null,
   "metadata": {
    "collapsed": true
   },
   "outputs": [],
   "source": [
    "patientsDirList.append(patientDir)"
   ]
  },
  {
   "cell_type": "code",
   "execution_count": null,
   "metadata": {
    "collapsed": true
   },
   "outputs": [],
   "source": [
    "samples = sni.getSamplesForSubEpoch(100,\n",
    "                          patientsDirList,\n",
    "                          useROI = True,\n",
    "                          modals = ['t1ce', 't1', 't2', 'flair'],\n",
    "                          normType = 'normImage',\n",
    "                          trainSampleSize = [25, 25, 25],\n",
    "                          receptiveField = 17,\n",
    "                          weightMapType = 0,\n",
    "                          parallel = False)"
   ]
  },
  {
   "cell_type": "code",
   "execution_count": null,
   "metadata": {
    "collapsed": true
   },
   "outputs": [],
   "source": [
    "len(samples[0])"
   ]
  },
  {
   "cell_type": "code",
   "execution_count": null,
   "metadata": {
    "collapsed": true
   },
   "outputs": [],
   "source": [
    "samples[0][0].shape"
   ]
  },
  {
   "cell_type": "code",
   "execution_count": null,
   "metadata": {
    "collapsed": true
   },
   "outputs": [],
   "source": [
    "import nibabel as nib\n",
    "import numpy as np"
   ]
  },
  {
   "cell_type": "code",
   "execution_count": null,
   "metadata": {
    "collapsed": true
   },
   "outputs": [],
   "source": [
    "seg = '/home/mountain/Desktop/BrainNets/data/Brats17TrainingData/HGG/Brats17_2013_7_1/Brats17_2013_7_1_seg.nii.gz'"
   ]
  },
  {
   "cell_type": "code",
   "execution_count": null,
   "metadata": {
    "collapsed": true
   },
   "outputs": [],
   "source": [
    "tice = '/home/mountain/Desktop/BrainNets/data/normNiiTrainingDataWithROI/HGG/Brats17_2013_13_1/normBrainBrats17_2013_13_1_t1ce.nii.gz'"
   ]
  },
  {
   "cell_type": "code",
   "execution_count": null,
   "metadata": {
    "collapsed": true
   },
   "outputs": [],
   "source": [
    "tice = '/home/mountain/Desktop/BrainNets/data/normNiiTrainingDataWithROI/HGG/Brats17_2013_13_1/normImageBrats17_2013_13_1_t1ce.nii.gz'"
   ]
  },
  {
   "cell_type": "code",
   "execution_count": null,
   "metadata": {
    "collapsed": true
   },
   "outputs": [],
   "source": [
    "roi = '/home/mountain/Desktop/BrainNets/data/normNiiTrainingDataWithROI/HGG/Brats17_2013_13_1/Brats17_2013_13_1.ROI.nii.gz'"
   ]
  },
  {
   "cell_type": "code",
   "execution_count": null,
   "metadata": {
    "collapsed": true
   },
   "outputs": [],
   "source": [
    "new = '/home/mountain/Desktop/BrainNets/data/normNiiTrainingDataWithROI/HGG/Brats17_2013_19_1/normImageBrats17_2013_19_1_flair.nii.gz'"
   ]
  },
  {
   "cell_type": "code",
   "execution_count": null,
   "metadata": {
    "collapsed": true
   },
   "outputs": [],
   "source": [
    "image = nib.load(new)"
   ]
  },
  {
   "cell_type": "code",
   "execution_count": null,
   "metadata": {
    "collapsed": true,
    "scrolled": true
   },
   "outputs": [],
   "source": [
    "array = image.get_data()"
   ]
  },
  {
   "cell_type": "code",
   "execution_count": null,
   "metadata": {
    "collapsed": true
   },
   "outputs": [],
   "source": [
    "ROIBoolArray = array > 0\n",
    "ROIArray = ROIBoolArray.astype('int16')"
   ]
  },
  {
   "cell_type": "code",
   "execution_count": null,
   "metadata": {
    "collapsed": true
   },
   "outputs": [],
   "source": [
    "ROIArray.dtype"
   ]
  },
  {
   "cell_type": "code",
   "execution_count": null,
   "metadata": {
    "collapsed": true
   },
   "outputs": [],
   "source": [
    "ROIImage = nib.Nifti1Image(ROIArray, image.affine)"
   ]
  },
  {
   "cell_type": "code",
   "execution_count": null,
   "metadata": {
    "collapsed": true,
    "scrolled": false
   },
   "outputs": [],
   "source": [
    "array[1,2,3]"
   ]
  },
  {
   "cell_type": "code",
   "execution_count": null,
   "metadata": {
    "collapsed": true
   },
   "outputs": [],
   "source": [
    "ar = ROIImage.get_data()"
   ]
  },
  {
   "cell_type": "code",
   "execution_count": null,
   "metadata": {
    "collapsed": true
   },
   "outputs": [],
   "source": [
    "ar.dtype"
   ]
  },
  {
   "cell_type": "code",
   "execution_count": null,
   "metadata": {
    "collapsed": true
   },
   "outputs": [],
   "source": [
    "patientName = '/home/mountain/Desktop/'\n",
    "# Name the ROI file\n",
    "ROIFileName = patientName + 'ROI.nii'\n",
    "nib.save(ROIImage, ROIFileName)"
   ]
  },
  {
   "cell_type": "code",
   "execution_count": null,
   "metadata": {
    "collapsed": true
   },
   "outputs": [],
   "source": [
    "reLoadImage = '/home/mountain/Desktop/ROI.nii'"
   ]
  },
  {
   "cell_type": "code",
   "execution_count": null,
   "metadata": {
    "collapsed": true
   },
   "outputs": [],
   "source": [
    "reimage = nib.load(reLoadImage)"
   ]
  },
  {
   "cell_type": "code",
   "execution_count": null,
   "metadata": {
    "collapsed": true
   },
   "outputs": [],
   "source": [
    "reArray = reimage.get_data()"
   ]
  },
  {
   "cell_type": "code",
   "execution_count": null,
   "metadata": {
    "collapsed": true
   },
   "outputs": [],
   "source": [
    "reArray.dtype"
   ]
  },
  {
   "cell_type": "code",
   "execution_count": null,
   "metadata": {
    "collapsed": true,
    "scrolled": true
   },
   "outputs": [],
   "source": [
    "array"
   ]
  },
  {
   "cell_type": "code",
   "execution_count": null,
   "metadata": {
    "collapsed": true
   },
   "outputs": [],
   "source": [
    "b = array.astype('float32')"
   ]
  },
  {
   "cell_type": "code",
   "execution_count": null,
   "metadata": {
    "collapsed": true,
    "scrolled": true
   },
   "outputs": [],
   "source": [
    "b == array"
   ]
  },
  {
   "cell_type": "code",
   "execution_count": null,
   "metadata": {
    "collapsed": true,
    "scrolled": false
   },
   "outputs": [],
   "source": [
    "array.dtype"
   ]
  },
  {
   "cell_type": "code",
   "execution_count": null,
   "metadata": {
    "collapsed": true
   },
   "outputs": [],
   "source": [
    "def numpyArrayCounter(numpyArray):\n",
    "\n",
    "    unique, counts = np.unique(numpyArray, return_counts = True)\n",
    "\n",
    "    return np.asarray((unique, counts)).T"
   ]
  },
  {
   "cell_type": "code",
   "execution_count": null,
   "metadata": {
    "collapsed": true
   },
   "outputs": [],
   "source": [
    "count = numpyArrayCounter(array)"
   ]
  },
  {
   "cell_type": "code",
   "execution_count": null,
   "metadata": {
    "collapsed": true
   },
   "outputs": [],
   "source": [
    "count"
   ]
  },
  {
   "cell_type": "code",
   "execution_count": null,
   "metadata": {
    "collapsed": true
   },
   "outputs": [],
   "source": []
  }
 ],
 "metadata": {
  "kernelspec": {
   "display_name": "Python 2",
   "language": "python",
   "name": "python2"
  },
  "language_info": {
   "codemirror_mode": {
    "name": "ipython",
    "version": 2
   },
   "file_extension": ".py",
   "mimetype": "text/x-python",
   "name": "python",
   "nbconvert_exporter": "python",
   "pygments_lexer": "ipython2",
   "version": "2.7.13"
  }
 },
 "nbformat": 4,
 "nbformat_minor": 2
}

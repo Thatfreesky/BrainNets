{
 "cells": [
  {
   "cell_type": "code",
   "execution_count": 1,
   "metadata": {
    "collapsed": true
   },
   "outputs": [],
   "source": [
    "import logging\n",
    "logging.basicConfig(filename = '../logging/BrainNetsLog.log', \n",
    "                    filemode='w', \n",
    "                    format = '%(asctime)s %(name)s %(lineno)d %(funcName)s %(levelname)s:%(message)s', \n",
    "                    level = logging.INFO)\n",
    "logger = logging.getLogger('Jupyter Notebook')"
   ]
  },
  {
   "cell_type": "code",
   "execution_count": 2,
   "metadata": {
    "scrolled": false
   },
   "outputs": [
    {
     "name": "stderr",
     "output_type": "stream",
     "text": [
      "/home/mountain/anaconda3/envs/biomediclasagne/lib/python2.7/site-packages/theano/gpuarray/dnn.py:135: UserWarning: Your cuDNN version is more recent than Theano. If you encounter problems, try updating Theano or downgrading cuDNN to version 5.1.\n",
      "  warnings.warn(\"Your cuDNN version is more recent than \"\n",
      "Using cuDNN version 6020 on context None\n",
      "Mapped name None to device cuda0: GeForce GTX 750 Ti (0000:01:00.0)\n"
     ]
    }
   ],
   "source": [
    "import BrainNets as bn\n",
    "reload(bn)\n",
    "import dataOperator as do\n",
    "reload(do)\n",
    "\n",
    "import time\n",
    "import theano\n",
    "import numpy as np\n",
    "import SimpleITK as sitk\n",
    "import matplotlib.pyplot as plt\n",
    "from tqdm import tqdm_notebook\n",
    "\n",
    "%matplotlib inline "
   ]
  },
  {
   "cell_type": "code",
   "execution_count": 3,
   "metadata": {
    "collapsed": true,
    "scrolled": true
   },
   "outputs": [],
   "source": [
    "net = bn.Network()\n",
    "trainFunc = net.trainFunction()\n",
    "valAndTestFunc = net.valAndTestFunction()"
   ]
  },
  {
   "cell_type": "code",
   "execution_count": 35,
   "metadata": {},
   "outputs": [],
   "source": [
    "trainCubes = do.cubesGetor(cubeDirectory = '../data/tryGenerateCubeData/', \n",
    "                           sourceDataDirectory = '../data/SimpleExploreSomeData/', \n",
    "                           cubeSize = 33,\n",
    "                           trainOrVal = 'val',\n",
    "                           onTheFly = True)\n",
    "valCubes = do.cubesGetor(cubeDirectory = '../data/tryGenerateCubeData/', \n",
    "                         sourceDataDirectory = '../data/SimpleExploreSomeData/',\n",
    "                         cubeSize = 33,\n",
    "                         onTheFly = True, \n",
    "                         trainOrVal = 'val')"
   ]
  },
  {
   "cell_type": "code",
   "execution_count": 36,
   "metadata": {
    "collapsed": true
   },
   "outputs": [],
   "source": [
    "numEpochs = 100"
   ]
  },
  {
   "cell_type": "code",
   "execution_count": 37,
   "metadata": {
    "collapsed": true
   },
   "outputs": [],
   "source": [
    "trainingLoss = []\n",
    "validationLoss = []\n",
    "validationACC = []"
   ]
  },
  {
   "cell_type": "code",
   "execution_count": 38,
   "metadata": {
    "scrolled": true
   },
   "outputs": [
    {
     "ename": "ValueError",
     "evalue": "GpuReshape: trying to reshape an array of total size 4877800 into an array of total size 200.\nApply node that caused the error: GpuReshape{2}(GpuCrossentropySoftmax1HotWithBiasDx.0, Join.0)\nToposort index: 149\nInputs types: [GpuArrayType<None>(float32, matrix), TensorType(int64, vector)]\nInputs shapes: [(100, 48778), (2,)]\nInputs strides: [(195112, 4), (8,)]\nInputs values: ['not shown', array([100,   2])]\nOutputs clients: [[InplaceGpuDimShuffle{0,x,x,x,1}(GpuReshape{2}.0)]]\n\nHINT: Re-running with most Theano optimization disabled could give you a back-trace of when this node was created. This can be done with by setting the Theano flag 'optimizer=fast_compile'. If that does not work, Theano optimizations can be disabled with 'optimizer=None'.\nHINT: Use the Theano flag 'exception_verbosity=high' for a debugprint and storage map footprint of this apply node.",
     "output_type": "error",
     "traceback": [
      "\u001b[0;31m---------------------------------------------------------------------------\u001b[0m",
      "\u001b[0;31mValueError\u001b[0m                                Traceback (most recent call last)",
      "\u001b[0;32m<ipython-input-38-f38a33f02f8b>\u001b[0m in \u001b[0;36m<module>\u001b[0;34m()\u001b[0m\n\u001b[1;32m      9\u001b[0m     \u001b[0;32mfor\u001b[0m \u001b[0mbatch\u001b[0m \u001b[0;32min\u001b[0m \u001b[0mtrainCubes\u001b[0m\u001b[0;34m.\u001b[0m\u001b[0mfetchCubes\u001b[0m\u001b[0;34m(\u001b[0m\u001b[0mbatchSize\u001b[0m \u001b[0;34m=\u001b[0m \u001b[0;36m100\u001b[0m\u001b[0;34m,\u001b[0m \u001b[0mparallel\u001b[0m \u001b[0;34m=\u001b[0m \u001b[0mTrue\u001b[0m\u001b[0;34m)\u001b[0m\u001b[0;34m:\u001b[0m\u001b[0;34m\u001b[0m\u001b[0m\n\u001b[1;32m     10\u001b[0m         \u001b[0minputs\u001b[0m\u001b[0;34m,\u001b[0m \u001b[0mtargets\u001b[0m \u001b[0;34m=\u001b[0m \u001b[0mbatch\u001b[0m\u001b[0;34m\u001b[0m\u001b[0m\n\u001b[0;32m---> 11\u001b[0;31m         \u001b[0mtarget\u001b[0m\u001b[0;34m,\u001b[0m \u001b[0mtrainPre\u001b[0m\u001b[0;34m,\u001b[0m \u001b[0mtrainAcc\u001b[0m\u001b[0;34m,\u001b[0m \u001b[0mtrainLoc\u001b[0m\u001b[0;34m,\u001b[0m \u001b[0mtrainErr\u001b[0m\u001b[0;34m,\u001b[0m \u001b[0mtrainPairLoss\u001b[0m \u001b[0;34m=\u001b[0m \u001b[0mtrainFunc\u001b[0m\u001b[0;34m(\u001b[0m\u001b[0minputs\u001b[0m\u001b[0;34m,\u001b[0m \u001b[0mtargets\u001b[0m\u001b[0;34m)\u001b[0m\u001b[0;34m\u001b[0m\u001b[0m\n\u001b[0m\u001b[1;32m     12\u001b[0m         \u001b[0;32mprint\u001b[0m \u001b[0minputs\u001b[0m\u001b[0;34m.\u001b[0m\u001b[0mshape\u001b[0m\u001b[0;34m,\u001b[0m \u001b[0mtargets\u001b[0m\u001b[0;34m.\u001b[0m\u001b[0mshape\u001b[0m\u001b[0;34m\u001b[0m\u001b[0m\n\u001b[1;32m     13\u001b[0m         \u001b[0mnpTarget\u001b[0m \u001b[0;34m=\u001b[0m \u001b[0mnp\u001b[0m\u001b[0;34m.\u001b[0m\u001b[0marray\u001b[0m\u001b[0;34m(\u001b[0m\u001b[0mtarget\u001b[0m\u001b[0;34m)\u001b[0m\u001b[0;34m\u001b[0m\u001b[0m\n",
      "\u001b[0;32m/home/mountain/anaconda3/envs/biomediclasagne/lib/python2.7/site-packages/theano/compile/function_module.pyc\u001b[0m in \u001b[0;36m__call__\u001b[0;34m(self, *args, **kwargs)\u001b[0m\n\u001b[1;32m    896\u001b[0m                     \u001b[0mnode\u001b[0m\u001b[0;34m=\u001b[0m\u001b[0mself\u001b[0m\u001b[0;34m.\u001b[0m\u001b[0mfn\u001b[0m\u001b[0;34m.\u001b[0m\u001b[0mnodes\u001b[0m\u001b[0;34m[\u001b[0m\u001b[0mself\u001b[0m\u001b[0;34m.\u001b[0m\u001b[0mfn\u001b[0m\u001b[0;34m.\u001b[0m\u001b[0mposition_of_error\u001b[0m\u001b[0;34m]\u001b[0m\u001b[0;34m,\u001b[0m\u001b[0;34m\u001b[0m\u001b[0m\n\u001b[1;32m    897\u001b[0m                     \u001b[0mthunk\u001b[0m\u001b[0;34m=\u001b[0m\u001b[0mthunk\u001b[0m\u001b[0;34m,\u001b[0m\u001b[0;34m\u001b[0m\u001b[0m\n\u001b[0;32m--> 898\u001b[0;31m                     storage_map=getattr(self.fn, 'storage_map', None))\n\u001b[0m\u001b[1;32m    899\u001b[0m             \u001b[0;32melse\u001b[0m\u001b[0;34m:\u001b[0m\u001b[0;34m\u001b[0m\u001b[0m\n\u001b[1;32m    900\u001b[0m                 \u001b[0;31m# old-style linkers raise their own exceptions\u001b[0m\u001b[0;34m\u001b[0m\u001b[0;34m\u001b[0m\u001b[0m\n",
      "\u001b[0;32m/home/mountain/anaconda3/envs/biomediclasagne/lib/python2.7/site-packages/theano/gof/link.pyc\u001b[0m in \u001b[0;36mraise_with_op\u001b[0;34m(node, thunk, exc_info, storage_map)\u001b[0m\n\u001b[1;32m    323\u001b[0m         \u001b[0;31m# extra long error message in that case.\u001b[0m\u001b[0;34m\u001b[0m\u001b[0;34m\u001b[0m\u001b[0m\n\u001b[1;32m    324\u001b[0m         \u001b[0;32mpass\u001b[0m\u001b[0;34m\u001b[0m\u001b[0m\n\u001b[0;32m--> 325\u001b[0;31m     \u001b[0mreraise\u001b[0m\u001b[0;34m(\u001b[0m\u001b[0mexc_type\u001b[0m\u001b[0;34m,\u001b[0m \u001b[0mexc_value\u001b[0m\u001b[0;34m,\u001b[0m \u001b[0mexc_trace\u001b[0m\u001b[0;34m)\u001b[0m\u001b[0;34m\u001b[0m\u001b[0m\n\u001b[0m\u001b[1;32m    326\u001b[0m \u001b[0;34m\u001b[0m\u001b[0m\n\u001b[1;32m    327\u001b[0m \u001b[0;34m\u001b[0m\u001b[0m\n",
      "\u001b[0;32m/home/mountain/anaconda3/envs/biomediclasagne/lib/python2.7/site-packages/theano/compile/function_module.pyc\u001b[0m in \u001b[0;36m__call__\u001b[0;34m(self, *args, **kwargs)\u001b[0m\n\u001b[1;32m    882\u001b[0m         \u001b[0;32mtry\u001b[0m\u001b[0;34m:\u001b[0m\u001b[0;34m\u001b[0m\u001b[0m\n\u001b[1;32m    883\u001b[0m             \u001b[0moutputs\u001b[0m \u001b[0;34m=\u001b[0m\u001b[0;31m\\\u001b[0m\u001b[0;34m\u001b[0m\u001b[0m\n\u001b[0;32m--> 884\u001b[0;31m                 \u001b[0mself\u001b[0m\u001b[0;34m.\u001b[0m\u001b[0mfn\u001b[0m\u001b[0;34m(\u001b[0m\u001b[0;34m)\u001b[0m \u001b[0;32mif\u001b[0m \u001b[0moutput_subset\u001b[0m \u001b[0;32mis\u001b[0m \u001b[0mNone\u001b[0m \u001b[0;32melse\u001b[0m\u001b[0;31m\\\u001b[0m\u001b[0;34m\u001b[0m\u001b[0m\n\u001b[0m\u001b[1;32m    885\u001b[0m                 \u001b[0mself\u001b[0m\u001b[0;34m.\u001b[0m\u001b[0mfn\u001b[0m\u001b[0;34m(\u001b[0m\u001b[0moutput_subset\u001b[0m\u001b[0;34m=\u001b[0m\u001b[0moutput_subset\u001b[0m\u001b[0;34m)\u001b[0m\u001b[0;34m\u001b[0m\u001b[0m\n\u001b[1;32m    886\u001b[0m         \u001b[0;32mexcept\u001b[0m \u001b[0mException\u001b[0m\u001b[0;34m:\u001b[0m\u001b[0;34m\u001b[0m\u001b[0m\n",
      "\u001b[0;31mValueError\u001b[0m: GpuReshape: trying to reshape an array of total size 4877800 into an array of total size 200.\nApply node that caused the error: GpuReshape{2}(GpuCrossentropySoftmax1HotWithBiasDx.0, Join.0)\nToposort index: 149\nInputs types: [GpuArrayType<None>(float32, matrix), TensorType(int64, vector)]\nInputs shapes: [(100, 48778), (2,)]\nInputs strides: [(195112, 4), (8,)]\nInputs values: ['not shown', array([100,   2])]\nOutputs clients: [[InplaceGpuDimShuffle{0,x,x,x,1}(GpuReshape{2}.0)]]\n\nHINT: Re-running with most Theano optimization disabled could give you a back-trace of when this node was created. This can be done with by setting the Theano flag 'optimizer=fast_compile'. If that does not work, Theano optimizations can be disabled with 'optimizer=None'.\nHINT: Use the Theano flag 'exception_verbosity=high' for a debugprint and storage map footprint of this apply node."
     ]
    }
   ],
   "source": [
    "for epoch in range(numEpochs):\n",
    "    logger.info('{} th of {} epochs'.format(epoch, numEpochs))\n",
    "    \n",
    "    trainError = 0\n",
    "    startTime = time.time()\n",
    "    trainBatch = 0\n",
    "    \n",
    "#     for batch in synthsisTrain.generateSynthesisData(1000, group0 = (0,5), group1 = (1, 5)):\n",
    "    for batch in trainCubes.fetchCubes(batchSize = 100, parallel = True):\n",
    "        inputs, targets = batch\n",
    "        trainLoss = trainFunc(inputs, targets)\n",
    "\n",
    "        trainError += trainLoss\n",
    "        trainBatch += 1\n",
    "\n",
    "    valError = 0\n",
    "    valACC = 0\n",
    "    valBatches = 0\n",
    "        \n",
    "#     for batch in synthsisVal.generateSynthesisData(1000, group0 = (1,5), group1 = (1, 5)):\n",
    "    for batch in valCubes.fetchCubes(batchSize = 100, parallel = True):\n",
    "        inputs, targets = batch\n",
    "        targets = targets\n",
    "        valAndTestLoss, valAndTestACC = valAndTestFunc(inputs, targets)\n",
    "        valError += valAndTestLoss\n",
    "        valACC += valAndTestACC\n",
    "        valBatches += 1\n",
    "        \n",
    "    print \"Epoch {} of {} took {:.3f}s\".format(epoch + 1, numEpochs, time.time() - startTime)\n",
    "    print \"  training loss:\\t\\t{:.6f}\".format(trainError / trainBatch)\n",
    "    print \"  validation loss:\\t\\t{:.6f}\".format(valError / valBatches)\n",
    "    print \"  validation accuracy:\\t\\t{:.2f} %\".format(valACC / valBatches * 100)\n",
    "    \n",
    "    trainingLoss.append(trainError / trainBatch)\n",
    "    validationLoss.append(valError / valBatches)\n",
    "    validationACC.append(valACC / valBatches * 100)"
   ]
  },
  {
   "cell_type": "code",
   "execution_count": null,
   "metadata": {
    "collapsed": true,
    "scrolled": false
   },
   "outputs": [],
   "source": [
    "plt.plot(trainingLoss)\n",
    "plt.ylabel('trainingLoss')\n",
    "plt.show()"
   ]
  },
  {
   "cell_type": "code",
   "execution_count": null,
   "metadata": {
    "collapsed": true
   },
   "outputs": [],
   "source": [
    "plt.plot(validationLoss)\n",
    "plt.ylabel('validationLoss')\n",
    "plt.show()"
   ]
  },
  {
   "cell_type": "code",
   "execution_count": null,
   "metadata": {
    "collapsed": true
   },
   "outputs": [],
   "source": [
    "plt.plot(validationACC)\n",
    "plt.ylabel('validationACC')\n",
    "plt.show()"
   ]
  },
  {
   "cell_type": "code",
   "execution_count": null,
   "metadata": {
    "collapsed": true
   },
   "outputs": [],
   "source": [
    "theano.printing.debugprint(trainFunc)"
   ]
  },
  {
   "cell_type": "code",
   "execution_count": null,
   "metadata": {
    "collapsed": true,
    "scrolled": false
   },
   "outputs": [],
   "source": [
    "%time do.normalizeDataSet(dataPath = '../data/trainParallelNorm/', normalizedDataDir = '../data/outPutPara1/',parallel = False)"
   ]
  },
  {
   "cell_type": "code",
   "execution_count": null,
   "metadata": {
    "collapsed": true,
    "scrolled": false
   },
   "outputs": [],
   "source": [
    "%time do.normalizeDataSet(dataPath = '../data/trainParallelNorm/', normalizedDataDir = '../data/outPutPara2/',parallel = True)"
   ]
  },
  {
   "cell_type": "code",
   "execution_count": 32,
   "metadata": {
    "scrolled": true
   },
   "outputs": [
    {
     "data": {
      "application/vnd.jupyter.widget-view+json": {
       "model_id": "164097ee68c142999f7e5f4d96dc79ed"
      }
     },
     "metadata": {},
     "output_type": "display_data"
    }
   ],
   "source": [
    "do.makeCubesOnTheFly(dataPath = '../data/SimpleExploreSomeData/', \n",
    "             cubeDirectory = '../data/tryGenerateCubeData1/',\n",
    "             cubeSize = 33, \n",
    "             parallel = False)"
   ]
  },
  {
   "cell_type": "code",
   "execution_count": 33,
   "metadata": {},
   "outputs": [
    {
     "data": {
      "application/vnd.jupyter.widget-view+json": {
       "model_id": "9b2e4051c58e44d0955405ede0e32391"
      }
     },
     "metadata": {},
     "output_type": "display_data"
    },
    {
     "name": "stdout",
     "output_type": "stream",
     "text": [
      "\n"
     ]
    }
   ],
   "source": [
    "do.makeCubesOnTheFly(dataPath = '../data/SimpleExploreSomeData/', \n",
    "             cubeDirectory = '../data/tryGenerateCubeData/',\n",
    "             cubeSize = 33, \n",
    "             parallel = True)"
   ]
  },
  {
   "cell_type": "code",
   "execution_count": null,
   "metadata": {
    "collapsed": true
   },
   "outputs": [],
   "source": []
  },
  {
   "cell_type": "code",
   "execution_count": null,
   "metadata": {
    "collapsed": true
   },
   "outputs": [],
   "source": [
    "synthsisTrain = do.cubesGetor(cubeDirectory = '../data/tryGenerateCubeData/', batchSize = 1000)\n",
    "synthsisVal = do.cubesGetor(cubeDirectory = '../data/tryGenerateCubeData/', trainOrVal = 'val', batchSize = 1000)"
   ]
  },
  {
   "cell_type": "code",
   "execution_count": null,
   "metadata": {
    "collapsed": true,
    "scrolled": true
   },
   "outputs": [],
   "source": [
    "startTime = time.time()\n",
    "for inputs, targets in trainCubes.fetchCubes(batchSize = 100, parallel = False):\n",
    "    print time.time() - startTime\n",
    "    startTime = time.time()"
   ]
  },
  {
   "cell_type": "code",
   "execution_count": null,
   "metadata": {
    "collapsed": true
   },
   "outputs": [],
   "source": [
    "startTime = time.time()\n",
    "for inputs, targets in trainCubes.fetchCubes(batchSize = 100, parallel = True):\n",
    "    print time.time() - startTime\n",
    "    startTime = time.time()"
   ]
  }
 ],
 "metadata": {
  "kernelspec": {
   "display_name": "Python 2",
   "language": "python",
   "name": "python2"
  },
  "language_info": {
   "codemirror_mode": {
    "name": "ipython",
    "version": 2
   },
   "file_extension": ".py",
   "mimetype": "text/x-python",
   "name": "python",
   "nbconvert_exporter": "python",
   "pygments_lexer": "ipython2",
   "version": "2.7.13"
  }
 },
 "nbformat": 4,
 "nbformat_minor": 2
}

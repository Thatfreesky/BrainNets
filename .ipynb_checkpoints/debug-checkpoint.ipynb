{
 "cells": [
  {
   "cell_type": "code",
   "execution_count": 1,
   "metadata": {},
   "outputs": [
    {
     "name": "stdout",
     "output_type": "stream",
     "text": [
      "../logging/baseNet/17-06-21_00:51:17baseNet.log\n"
     ]
    }
   ],
   "source": [
    "from datetime import datetime\n",
    "import os\n",
    "\n",
    "modelType = 'baseNet'\n",
    "\n",
    "logFileDir = os.path.join('../logging', modelType)\n",
    "if not os.path.exists(logFileDir):\n",
    "    os.mkdir(logFileDir)\n",
    "    \n",
    "timeString = datetime.now().strftime('%y-%m-%d_%H:%M:%S')\n",
    "logFileName = timeString + '{}.log'.format(modelType)\n",
    "logFileName = os.path.join(logFileDir, logFileName)\n",
    "\n",
    "print logFileName\n",
    "\n",
    "import logging\n",
    "logging.basicConfig(filename = logFileName, \n",
    "                    filemode='w', \n",
    "                    format = '%(name)s %(lineno)d %(levelname)s:%(message)s', \n",
    "                    level = logging.INFO)\n",
    "logger = logging.getLogger('Jupyter Notebook')"
   ]
  },
  {
   "cell_type": "code",
   "execution_count": 12,
   "metadata": {
    "collapsed": true,
    "scrolled": false
   },
   "outputs": [],
   "source": [
    "import utils.general as ge\n",
    "reload(ge)\n",
    "import utils.createROIMask as cr\n",
    "reload(cr)\n",
    "import utils.createROIMaskForNii as crn\n",
    "reload(crn)\n",
    "import utils.sampling as sp\n",
    "reload(sp)\n",
    "# import models.baseNet as bn\n",
    "# reload(bn)\n",
    "# from models.Layers import DilatedConv3DLayer\n",
    "import generateTrainTestNetwork as gtt\n",
    "\n",
    "import time\n",
    "import theano\n",
    "import numpy as np\n",
    "import SimpleITK as sitk\n",
    "import matplotlib.pyplot as plt\n",
    "from tqdm import tqdm_notebook\n",
    "\n",
    "%matplotlib inline "
   ]
  },
  {
   "cell_type": "code",
   "execution_count": 3,
   "metadata": {
    "scrolled": false
   },
   "outputs": [
    {
     "data": {
      "text/plain": [
       "<module 'generateTrainTestNetwork' from 'generateTrainTestNetwork.pyc'>"
      ]
     },
     "execution_count": 3,
     "metadata": {},
     "output_type": "execute_result"
    }
   ],
   "source": [
    "reload(gtt)"
   ]
  },
  {
   "cell_type": "code",
   "execution_count": 4,
   "metadata": {
    "collapsed": true
   },
   "outputs": [],
   "source": [
    "configFile = '/home/mountain/Desktop/BrainNets/code/configs/{}.cfg'.format(modelType)"
   ]
  },
  {
   "cell_type": "code",
   "execution_count": 5,
   "metadata": {},
   "outputs": [
    {
     "data": {
      "text/plain": [
       "'/home/mountain/Desktop/BrainNets/code/configs/baseNet.cfg'"
      ]
     },
     "execution_count": 5,
     "metadata": {},
     "output_type": "execute_result"
    }
   ],
   "source": [
    "configFile"
   ]
  },
  {
   "cell_type": "code",
   "execution_count": 6,
   "metadata": {
    "collapsed": true
   },
   "outputs": [],
   "source": [
    "baseNet = gtt.generateNetwork(configFile)"
   ]
  },
  {
   "cell_type": "code",
   "execution_count": null,
   "metadata": {
    "collapsed": true
   },
   "outputs": [],
   "source": []
  },
  {
   "cell_type": "code",
   "execution_count": 7,
   "metadata": {
    "scrolled": true
   },
   "outputs": [
    {
     "data": {
      "text/plain": [
       "([['-', '-', '-', '-', '-', '-'],\n",
       "  ['EPOCH',\n",
       "   'SUBEPOCH',\n",
       "   'Train Time',\n",
       "   'Train Loss',\n",
       "   'Train ACC',\n",
       "   'Sampling Time'],\n",
       "  ['-', '-', '-', '-', '-', '-'],\n",
       "  [1, 1, '2.08e+03', '0.535834', '0.842175', '43.9'],\n",
       "  ['', 2, '2.08e+03', '0.452220', '0.864368', '41.4'],\n",
       "  ['', 3, '2.08e+03', '0.415843', '0.876338', '41.0'],\n",
       "  ['', 4, '2.08e+03', '0.414212', '0.874312', '41.2'],\n",
       "  ['', 5, '2.08e+03', '0.404634', '0.877799', '40.3'],\n",
       "  ['', 6, '2.08e+03', '0.372013', '0.887135', '41.0'],\n",
       "  ['', 7, '2.08e+03', '0.382299', '0.884158', '43.0'],\n",
       "  ['-', '-', '-', '-', '-', '-'],\n",
       "  ['', '', '2.92e+02', '0.425294', '0.872326', '1.46e+04'],\n",
       "  ['-', '-', '-', '-', '-', '-'],\n",
       "  [2, 1, '2.08e+03', '0.374468', '0.887005', '44.0'],\n",
       "  ['', 2, '2.08e+03', '0.371628', '0.885752', '47.0'],\n",
       "  ['', 3, '2.08e+03', '0.350731', '0.893697', '43.7'],\n",
       "  ['', 4, '2.08e+03', '0.360731', '0.888127', '41.0'],\n",
       "  ['', 5, '2.08e+03', '0.357871', '0.890897', '41.7'],\n",
       "  ['', 6, '2.08e+03', '0.335349', '0.896864', '46.9'],\n",
       "  ['', 7, '2.08e+03', '0.341925', '0.893556', '43.7'],\n",
       "  ['-', '-', '-', '-', '-', '-'],\n",
       "  ['', '', '3.08e+02', '0.356100', '0.890842', '1.46e+04'],\n",
       "  ['-', '-', '-', '-', '-', '-'],\n",
       "  [3, 1, '2.08e+03', '0.341889', '0.894019', '42.3'],\n",
       "  ['', 2, '2.08e+03', '0.339016', '0.894767', '40.1'],\n",
       "  ['', 3, '2.08e+03', '0.326605', '0.899060', '41.1'],\n",
       "  ['', 4, '2.08e+03', '0.339134', '0.893759', '39.5'],\n",
       "  ['', 5, '2.08e+03', '0.335704', '0.895179', '35.0'],\n",
       "  ['', 6, '2.08e+03', '0.311274', '0.902886', '42.1'],\n",
       "  ['', 7, '2.08e+03', '0.322155', '0.899212', '54.3'],\n",
       "  ['-', '-', '-', '-', '-', '-'],\n",
       "  ['', '', '2.94e+02', '0.330825', '0.896983', '1.46e+04'],\n",
       "  ['-', '-', '-', '-', '-', '-'],\n",
       "  [4, 1, '2.08e+03', '0.316379', '0.900901', '1.33e+02'],\n",
       "  ['', 2, '2.08e+03', '0.320372', '0.899245', '94.0'],\n",
       "  ['', 3, '2.08e+03', '0.306773', '0.904156', '73.5'],\n",
       "  ['', 4, '2.08e+03', '0.316635', '0.899772', '1.24e+02'],\n",
       "  ['', 5, '2.08e+03', '0.318137', '0.899808', '44.1'],\n",
       "  ['', 6, '2.08e+03', '0.299984', '0.904955', '51.4'],\n",
       "  ['', 7, '2.08e+03', '0.302932', '0.904218', '40.1'],\n",
       "  ['-', '-', '-', '-', '-', '-'],\n",
       "  ['', '', '5.6e+02', '0.311602', '0.901865', '1.46e+04'],\n",
       "  ['-', '-', '-', '-', '-', '-'],\n",
       "  [5, 1, '2.08e+03', '0.304513', '0.904293', '38.6'],\n",
       "  ['', 2, '2.08e+03', '0.308408', '0.902078', '36.7'],\n",
       "  ['', 3, '2.08e+03', '0.297926', '0.906555', '40.1'],\n",
       "  ['', 4, '2.08e+03', '0.302394', '0.903792', '40.9'],\n",
       "  ['', 5, '2.08e+03', '0.304309', '0.903421', '38.8'],\n",
       "  ['', 6, '2.08e+03', '0.289941', '0.907906', '41.0'],\n",
       "  ['', 7, '2.08e+03', '0.296121', '0.905658', '41.9'],\n",
       "  ['-', '-', '-', '-', '-', '-'],\n",
       "  ['', '', '2.78e+02', '0.300516', '0.904815', '1.46e+04'],\n",
       "  ['-', '-', '-', '-', '-', '-']],\n",
       " [['-', '-', '-', '-', '-', '-', '-', '-', '-', '-', '-', '-'],\n",
       "  ['EPOCH',\n",
       "   'SUBEPOCH',\n",
       "   'Val Time',\n",
       "   'CT Dice',\n",
       "   'CT Sens',\n",
       "   'CT Spec',\n",
       "   'Core Dice',\n",
       "   'Core Sens',\n",
       "   'Core Spec',\n",
       "   'Eh Dice',\n",
       "   'Eh Sens',\n",
       "   'Eh Spec'],\n",
       "  ['-', '-', '-', '-', '-', '-', '-', '-', '-', '-', '-', '-'],\n",
       "  [1,\n",
       "   1,\n",
       "   '2.41e+02',\n",
       "   '0.0130',\n",
       "   '0.0169',\n",
       "   '0.0220',\n",
       "   '0.0096',\n",
       "   '0.0169',\n",
       "   '0.0224',\n",
       "   '0.0103',\n",
       "   '0.0185',\n",
       "   '0.0225'],\n",
       "  ['',\n",
       "   2,\n",
       "   '2.41e+02',\n",
       "   '0.0154',\n",
       "   '0.0182',\n",
       "   '0.0223',\n",
       "   '0.0126',\n",
       "   '0.0182',\n",
       "   '0.0225',\n",
       "   '0.0126',\n",
       "   '0.0186',\n",
       "   '0.0226'],\n",
       "  ['',\n",
       "   3,\n",
       "   '2.41e+02',\n",
       "   '0.0164',\n",
       "   '0.0186',\n",
       "   '0.0224',\n",
       "   '0.0125',\n",
       "   '0.0186',\n",
       "   '0.0225',\n",
       "   '0.0125',\n",
       "   '0.0191',\n",
       "   '0.0226'],\n",
       "  ['',\n",
       "   4,\n",
       "   '2.41e+02',\n",
       "   '0.0171',\n",
       "   '0.0189',\n",
       "   '0.0224',\n",
       "   '0.0142',\n",
       "   '0.0189',\n",
       "   '0.0226',\n",
       "   '0.0152',\n",
       "   '0.0189',\n",
       "   '0.0226'],\n",
       "  ['',\n",
       "   5,\n",
       "   '2.41e+02',\n",
       "   '0.0151',\n",
       "   '0.0195',\n",
       "   '0.0222',\n",
       "   '0.0110',\n",
       "   '0.0195',\n",
       "   '0.0224',\n",
       "   '0.0109',\n",
       "   '0.0204',\n",
       "   '0.0225'],\n",
       "  ['',\n",
       "   6,\n",
       "   '2.41e+02',\n",
       "   '0.0152',\n",
       "   '0.0195',\n",
       "   '0.0222',\n",
       "   '0.0114',\n",
       "   '0.0195',\n",
       "   '0.0225',\n",
       "   '0.0111',\n",
       "   '0.0203',\n",
       "   '0.0225'],\n",
       "  ['',\n",
       "   7,\n",
       "   '2.41e+02',\n",
       "   '0.0165',\n",
       "   '0.0181',\n",
       "   '0.0224',\n",
       "   '0.0135',\n",
       "   '0.0181',\n",
       "   '0.0226',\n",
       "   '0.0148',\n",
       "   '0.0187',\n",
       "   '0.0226'],\n",
       "  ['-', '-', '-', '-', '-', '-', '-', '-', '-', '-', '-', '-'],\n",
       "  ['',\n",
       "   '',\n",
       "   '1.69e+03',\n",
       "   '0.0155',\n",
       "   '0.0185',\n",
       "   '0.0223',\n",
       "   '0.0121',\n",
       "   '0.0185',\n",
       "   '0.0225',\n",
       "   '0.0125',\n",
       "   '0.0192',\n",
       "   '0.0226'],\n",
       "  ['-', '-', '-', '-', '-', '-', '-', '-', '-', '-', '-', '-'],\n",
       "  [2,\n",
       "   1,\n",
       "   '2.41e+02',\n",
       "   '0.0177',\n",
       "   '0.0188',\n",
       "   '0.0225',\n",
       "   '0.0136',\n",
       "   '0.0188',\n",
       "   '0.0226',\n",
       "   '0.0161',\n",
       "   '0.0196',\n",
       "   '0.0227'],\n",
       "  ['',\n",
       "   2,\n",
       "   '2.41e+02',\n",
       "   '0.0178',\n",
       "   '0.0187',\n",
       "   '0.0225',\n",
       "   '0.0144',\n",
       "   '0.0187',\n",
       "   '0.0226',\n",
       "   '0.0159',\n",
       "   '0.0189',\n",
       "   '0.0227'],\n",
       "  ['',\n",
       "   3,\n",
       "   '2.41e+02',\n",
       "   '0.0156',\n",
       "   '0.0195',\n",
       "   '0.0223',\n",
       "   '0.0110',\n",
       "   '0.0195',\n",
       "   '0.0224',\n",
       "   '0.0117',\n",
       "   '0.0195',\n",
       "   '0.0225'],\n",
       "  ['',\n",
       "   4,\n",
       "   '2.41e+02',\n",
       "   '0.0173',\n",
       "   '0.0196',\n",
       "   '0.0224',\n",
       "   '0.0145',\n",
       "   '0.0196',\n",
       "   '0.0226',\n",
       "   '0.0158',\n",
       "   '0.0193',\n",
       "   '0.0227'],\n",
       "  ['',\n",
       "   5,\n",
       "   '2.41e+02',\n",
       "   '0.0187',\n",
       "   '0.0178',\n",
       "   '0.0226',\n",
       "   '0.0158',\n",
       "   '0.0178',\n",
       "   '0.0227',\n",
       "   '0.0173',\n",
       "   '0.0188',\n",
       "   '0.0227'],\n",
       "  ['',\n",
       "   6,\n",
       "   '2.41e+02',\n",
       "   '0.0155',\n",
       "   '0.0191',\n",
       "   '0.0223',\n",
       "   '0.0118',\n",
       "   '0.0191',\n",
       "   '0.0225',\n",
       "   '0.0125',\n",
       "   '0.0195',\n",
       "   '0.0226'],\n",
       "  ['',\n",
       "   7,\n",
       "   '2.41e+02',\n",
       "   '0.0176',\n",
       "   '0.0189',\n",
       "   '0.0225',\n",
       "   '0.0150',\n",
       "   '0.0189',\n",
       "   '0.0226',\n",
       "   '0.0157',\n",
       "   '0.0196',\n",
       "   '0.0227'],\n",
       "  ['-', '-', '-', '-', '-', '-', '-', '-', '-', '-', '-', '-'],\n",
       "  ['',\n",
       "   '',\n",
       "   '1.69e+03',\n",
       "   '0.0172',\n",
       "   '0.0189',\n",
       "   '0.0224',\n",
       "   '0.0137',\n",
       "   '0.0189',\n",
       "   '0.0226',\n",
       "   '0.0150',\n",
       "   '0.0193',\n",
       "   '0.0226'],\n",
       "  ['-', '-', '-', '-', '-', '-', '-', '-', '-', '-', '-', '-'],\n",
       "  [3,\n",
       "   1,\n",
       "   '2.41e+02',\n",
       "   '0.0173',\n",
       "   '0.0191',\n",
       "   '0.0225',\n",
       "   '0.0129',\n",
       "   '0.0191',\n",
       "   '0.0225',\n",
       "   '0.0138',\n",
       "   '0.0193',\n",
       "   '0.0226'],\n",
       "  ['',\n",
       "   2,\n",
       "   '2.41e+02',\n",
       "   '0.0175',\n",
       "   '0.0192',\n",
       "   '0.0225',\n",
       "   '0.0134',\n",
       "   '0.0192',\n",
       "   '0.0226',\n",
       "   '0.0134',\n",
       "   '0.0178',\n",
       "   '0.0226'],\n",
       "  ['',\n",
       "   3,\n",
       "   '2.41e+02',\n",
       "   '0.0156',\n",
       "   '0.0193',\n",
       "   '0.0223',\n",
       "   '0.0118',\n",
       "   '0.0193',\n",
       "   '0.0225',\n",
       "   '0.0122',\n",
       "   '0.0198',\n",
       "   '0.0226'],\n",
       "  ['',\n",
       "   4,\n",
       "   '2.41e+02',\n",
       "   '0.0159',\n",
       "   '0.0191',\n",
       "   '0.0223',\n",
       "   '0.0120',\n",
       "   '0.0191',\n",
       "   '0.0225',\n",
       "   '0.0125',\n",
       "   '0.0186',\n",
       "   '0.0226'],\n",
       "  ['',\n",
       "   5,\n",
       "   '2.41e+02',\n",
       "   '0.0166',\n",
       "   '0.0199',\n",
       "   '0.0224',\n",
       "   '0.0130',\n",
       "   '0.0199',\n",
       "   '0.0225',\n",
       "   '0.0136',\n",
       "   '0.0202',\n",
       "   '0.0226'],\n",
       "  ['',\n",
       "   6,\n",
       "   '2.41e+02',\n",
       "   '0.0174',\n",
       "   '0.0200',\n",
       "   '0.0225',\n",
       "   '0.0140',\n",
       "   '0.0200',\n",
       "   '0.0226',\n",
       "   '0.0151',\n",
       "   '0.0196',\n",
       "   '0.0226'],\n",
       "  ['',\n",
       "   7,\n",
       "   '2.41e+02',\n",
       "   '0.0162',\n",
       "   '0.0191',\n",
       "   '0.0223',\n",
       "   '0.0134',\n",
       "   '0.0191',\n",
       "   '0.0226',\n",
       "   '0.0148',\n",
       "   '0.0198',\n",
       "   '0.0226'],\n",
       "  ['-', '-', '-', '-', '-', '-', '-', '-', '-', '-', '-', '-'],\n",
       "  ['',\n",
       "   '',\n",
       "   '1.69e+03',\n",
       "   '0.0166',\n",
       "   '0.0194',\n",
       "   '0.0224',\n",
       "   '0.0129',\n",
       "   '0.0194',\n",
       "   '0.0225',\n",
       "   '0.0136',\n",
       "   '0.0193',\n",
       "   '0.0226'],\n",
       "  ['-', '-', '-', '-', '-', '-', '-', '-', '-', '-', '-', '-'],\n",
       "  [4,\n",
       "   1,\n",
       "   '2.41e+02',\n",
       "   '0.0160',\n",
       "   '0.0202',\n",
       "   '0.0223',\n",
       "   '0.0123',\n",
       "   '0.0202',\n",
       "   '0.0225',\n",
       "   '0.0124',\n",
       "   '0.0205',\n",
       "   '0.0225'],\n",
       "  ['',\n",
       "   2,\n",
       "   '2.41e+02',\n",
       "   '0.0172',\n",
       "   '0.0194',\n",
       "   '0.0224',\n",
       "   '0.0145',\n",
       "   '0.0194',\n",
       "   '0.0226',\n",
       "   '0.0145',\n",
       "   '0.0199',\n",
       "   '0.0226'],\n",
       "  ['',\n",
       "   3,\n",
       "   '2.41e+02',\n",
       "   '0.0168',\n",
       "   '0.0200',\n",
       "   '0.0224',\n",
       "   '0.0147',\n",
       "   '0.0200',\n",
       "   '0.0226',\n",
       "   '0.0147',\n",
       "   '0.0190',\n",
       "   '0.0226'],\n",
       "  ['',\n",
       "   4,\n",
       "   '2.41e+02',\n",
       "   '0.0174',\n",
       "   '0.0199',\n",
       "   '0.0225',\n",
       "   '0.0137',\n",
       "   '0.0199',\n",
       "   '0.0226',\n",
       "   '0.0148',\n",
       "   '0.0193',\n",
       "   '0.0226'],\n",
       "  ['',\n",
       "   5,\n",
       "   '2.41e+02',\n",
       "   '0.0163',\n",
       "   '0.0187',\n",
       "   '0.0224',\n",
       "   '0.0130',\n",
       "   '0.0187',\n",
       "   '0.0226',\n",
       "   '0.0131',\n",
       "   '0.0193',\n",
       "   '0.0226'],\n",
       "  ['',\n",
       "   6,\n",
       "   '2.41e+02',\n",
       "   '0.0165',\n",
       "   '0.0202',\n",
       "   '0.0224',\n",
       "   '0.0122',\n",
       "   '0.0202',\n",
       "   '0.0225',\n",
       "   '0.0120',\n",
       "   '0.0204',\n",
       "   '0.0225'],\n",
       "  ['',\n",
       "   7,\n",
       "   '2.41e+02',\n",
       "   '0.0180',\n",
       "   '0.0190',\n",
       "   '0.0225',\n",
       "   '0.0164',\n",
       "   '0.0190',\n",
       "   '0.0227',\n",
       "   '0.0180',\n",
       "   '0.0187',\n",
       "   '0.0227'],\n",
       "  ['-', '-', '-', '-', '-', '-', '-', '-', '-', '-', '-', '-'],\n",
       "  ['',\n",
       "   '',\n",
       "   '1.69e+03',\n",
       "   '0.0169',\n",
       "   '0.0196',\n",
       "   '0.0224',\n",
       "   '0.0138',\n",
       "   '0.0196',\n",
       "   '0.0226',\n",
       "   '0.0142',\n",
       "   '0.0196',\n",
       "   '0.0226'],\n",
       "  ['-', '-', '-', '-', '-', '-', '-', '-', '-', '-', '-', '-'],\n",
       "  [5,\n",
       "   1,\n",
       "   '2.41e+02',\n",
       "   '0.0166',\n",
       "   '0.0196',\n",
       "   '0.0224',\n",
       "   '0.0134',\n",
       "   '0.0196',\n",
       "   '0.0226',\n",
       "   '0.0144',\n",
       "   '0.0196',\n",
       "   '0.0226'],\n",
       "  ['',\n",
       "   2,\n",
       "   '2.41e+02',\n",
       "   '0.0171',\n",
       "   '0.0202',\n",
       "   '0.0224',\n",
       "   '0.0138',\n",
       "   '0.0202',\n",
       "   '0.0226',\n",
       "   '0.0159',\n",
       "   '0.0196',\n",
       "   '0.0227'],\n",
       "  ['',\n",
       "   3,\n",
       "   '2.41e+02',\n",
       "   '0.0173',\n",
       "   '0.0198',\n",
       "   '0.0224',\n",
       "   '0.0145',\n",
       "   '0.0198',\n",
       "   '0.0226',\n",
       "   '0.0148',\n",
       "   '0.0201',\n",
       "   '0.0226'],\n",
       "  ['',\n",
       "   4,\n",
       "   '2.4e+02',\n",
       "   '0.0185',\n",
       "   '0.0189',\n",
       "   '0.0225',\n",
       "   '0.0147',\n",
       "   '0.0189',\n",
       "   '0.0226',\n",
       "   '0.0149',\n",
       "   '0.0193',\n",
       "   '0.0226'],\n",
       "  ['',\n",
       "   5,\n",
       "   '2.4e+02',\n",
       "   '0.0157',\n",
       "   '0.0196',\n",
       "   '0.0223',\n",
       "   '0.0116',\n",
       "   '0.0196',\n",
       "   '0.0225',\n",
       "   '0.0111',\n",
       "   '0.0203',\n",
       "   '0.0225'],\n",
       "  ['',\n",
       "   6,\n",
       "   '2.4e+02',\n",
       "   '0.0177',\n",
       "   '0.0206',\n",
       "   '0.0225',\n",
       "   '0.0136',\n",
       "   '0.0206',\n",
       "   '0.0225',\n",
       "   '0.0133',\n",
       "   '0.0205',\n",
       "   '0.0226'],\n",
       "  ['',\n",
       "   7,\n",
       "   '2.4e+02',\n",
       "   '0.0195',\n",
       "   '0.0187',\n",
       "   '0.0226',\n",
       "   '0.0170',\n",
       "   '0.0187',\n",
       "   '0.0227',\n",
       "   '0.0185',\n",
       "   '0.0190',\n",
       "   '0.0227'],\n",
       "  ['-', '-', '-', '-', '-', '-', '-', '-', '-', '-', '-', '-'],\n",
       "  ['',\n",
       "   '',\n",
       "   '1.68e+03',\n",
       "   '0.0175',\n",
       "   '0.0196',\n",
       "   '0.0225',\n",
       "   '0.0141',\n",
       "   '0.0196',\n",
       "   '0.0226',\n",
       "   '0.0147',\n",
       "   '0.0198',\n",
       "   '0.0226'],\n",
       "  ['-', '-', '-', '-', '-', '-', '-', '-', '-', '-', '-', '-']])"
      ]
     },
     "execution_count": 7,
     "metadata": {},
     "output_type": "execute_result"
    }
   ],
   "source": [
    "gtt.trainNetwork(baseNet, configFile)"
   ]
  },
  {
   "cell_type": "code",
   "execution_count": null,
   "metadata": {
    "collapsed": true
   },
   "outputs": [],
   "source": []
  },
  {
   "cell_type": "code",
   "execution_count": null,
   "metadata": {
    "collapsed": true
   },
   "outputs": [],
   "source": []
  },
  {
   "cell_type": "code",
   "execution_count": null,
   "metadata": {
    "collapsed": true,
    "scrolled": true
   },
   "outputs": [],
   "source": [
    "gtt.testNetwork(baseNet, configFile)"
   ]
  },
  {
   "cell_type": "code",
   "execution_count": null,
   "metadata": {
    "collapsed": true,
    "scrolled": true
   },
   "outputs": [],
   "source": [
    "31*31*31*5"
   ]
  },
  {
   "cell_type": "code",
   "execution_count": null,
   "metadata": {
    "collapsed": true
   },
   "outputs": [],
   "source": [
    "a = np.zeros((5))"
   ]
  },
  {
   "cell_type": "code",
   "execution_count": null,
   "metadata": {
    "collapsed": true
   },
   "outputs": [],
   "source": [
    "a"
   ]
  },
  {
   "cell_type": "code",
   "execution_count": null,
   "metadata": {
    "collapsed": true
   },
   "outputs": [],
   "source": [
    "np.any(a)"
   ]
  },
  {
   "cell_type": "code",
   "execution_count": null,
   "metadata": {
    "collapsed": true
   },
   "outputs": [],
   "source": [
    "a = np.arange(10).reshape((2, 5))"
   ]
  },
  {
   "cell_type": "code",
   "execution_count": null,
   "metadata": {
    "collapsed": true
   },
   "outputs": [],
   "source": [
    "a"
   ]
  },
  {
   "cell_type": "code",
   "execution_count": null,
   "metadata": {
    "collapsed": true
   },
   "outputs": [],
   "source": [
    "a.reshape(5,2)"
   ]
  },
  {
   "cell_type": "code",
   "execution_count": null,
   "metadata": {
    "collapsed": true
   },
   "outputs": [],
   "source": [
    "a = np.reshape(a, (5,2))"
   ]
  },
  {
   "cell_type": "code",
   "execution_count": null,
   "metadata": {
    "collapsed": true
   },
   "outputs": [],
   "source": [
    "a"
   ]
  },
  {
   "cell_type": "code",
   "execution_count": null,
   "metadata": {
    "collapsed": true
   },
   "outputs": [],
   "source": [
    "a = (1,2)"
   ]
  },
  {
   "cell_type": "code",
   "execution_count": null,
   "metadata": {
    "collapsed": true
   },
   "outputs": [],
   "source": [
    "a[0]"
   ]
  },
  {
   "cell_type": "code",
   "execution_count": null,
   "metadata": {
    "collapsed": true
   },
   "outputs": [],
   "source": [
    "25*25*25*10\n"
   ]
  },
  {
   "cell_type": "code",
   "execution_count": null,
   "metadata": {
    "collapsed": true
   },
   "outputs": [],
   "source": [
    "b = np.asarray(a, dtype = 'int32')"
   ]
  },
  {
   "cell_type": "code",
   "execution_count": null,
   "metadata": {
    "collapsed": true
   },
   "outputs": [],
   "source": [
    "b.reshape((0,0,0,0))"
   ]
  },
  {
   "cell_type": "code",
   "execution_count": null,
   "metadata": {
    "collapsed": true
   },
   "outputs": [],
   "source": []
  },
  {
   "cell_type": "code",
   "execution_count": null,
   "metadata": {
    "collapsed": true
   },
   "outputs": [],
   "source": [
    "dataPath = '/home/mountain/Desktop/BrainNets/data/BRATS2015_Training'"
   ]
  },
  {
   "cell_type": "code",
   "execution_count": null,
   "metadata": {
    "collapsed": true
   },
   "outputs": [],
   "source": [
    "dataPath = '/home/mountain/Desktop/BrainNets/data/SimpleExploreSomeData'"
   ]
  },
  {
   "cell_type": "code",
   "execution_count": null,
   "metadata": {
    "collapsed": true
   },
   "outputs": [],
   "source": [
    "outputPath = '/home/mountain/Desktop/BrainNets/data/normTrainingDataWithROI'"
   ]
  },
  {
   "cell_type": "code",
   "execution_count": null,
   "metadata": {
    "collapsed": true
   },
   "outputs": [],
   "source": [
    "cr.normAndCreateROIForAllFiles(dataPath, outputPath)"
   ]
  },
  {
   "cell_type": "code",
   "execution_count": null,
   "metadata": {
    "collapsed": true
   },
   "outputs": [],
   "source": []
  },
  {
   "cell_type": "code",
   "execution_count": 13,
   "metadata": {
    "collapsed": true
   },
   "outputs": [],
   "source": [
    "dataPath = '/home/mountain/Desktop/BrainNets/data/SimpleExploreSomeNiiData'"
   ]
  },
  {
   "cell_type": "code",
   "execution_count": 16,
   "metadata": {
    "collapsed": true
   },
   "outputs": [],
   "source": [
    "dataPath = '/home/mountain/Desktop/BrainNets/data/Brats17TrainingData'"
   ]
  },
  {
   "cell_type": "code",
   "execution_count": 17,
   "metadata": {
    "collapsed": true
   },
   "outputs": [],
   "source": [
    "outputPath = '/home/mountain/Desktop/BrainNets/data/normNiiTrainingDataWithROI'"
   ]
  },
  {
   "cell_type": "code",
   "execution_count": 18,
   "metadata": {
    "collapsed": true
   },
   "outputs": [],
   "source": [
    "crn.normAndCreateROIForAllFiles(dataPath, outputPath)"
   ]
  },
  {
   "cell_type": "code",
   "execution_count": null,
   "metadata": {
    "collapsed": true
   },
   "outputs": [],
   "source": []
  },
  {
   "cell_type": "code",
   "execution_count": null,
   "metadata": {
    "collapsed": true
   },
   "outputs": [],
   "source": [
    "testDataPath  ='/home/mountain/Desktop/BrainNets/data/Testing'"
   ]
  },
  {
   "cell_type": "code",
   "execution_count": null,
   "metadata": {
    "collapsed": true
   },
   "outputs": [],
   "source": [
    "testDataOutputPath = '/home/mountain/Desktop/BrainNets/data/normTestDataWithROI'"
   ]
  },
  {
   "cell_type": "code",
   "execution_count": null,
   "metadata": {
    "collapsed": true
   },
   "outputs": [],
   "source": [
    "cr.normAndCreateROIForAllFiles(testDataPath, testDataOutputPath, True)"
   ]
  },
  {
   "cell_type": "code",
   "execution_count": null,
   "metadata": {
    "collapsed": true
   },
   "outputs": [],
   "source": [
    "a = []"
   ]
  },
  {
   "cell_type": "code",
   "execution_count": null,
   "metadata": {
    "collapsed": true
   },
   "outputs": [],
   "source": [
    "a[2:3]"
   ]
  },
  {
   "cell_type": "code",
   "execution_count": null,
   "metadata": {
    "collapsed": true
   },
   "outputs": [],
   "source": [
    "a[0]"
   ]
  },
  {
   "cell_type": "code",
   "execution_count": null,
   "metadata": {
    "collapsed": true
   },
   "outputs": [],
   "source": []
  },
  {
   "cell_type": "code",
   "execution_count": 33,
   "metadata": {
    "scrolled": true
   },
   "outputs": [
    {
     "data": {
      "text/plain": [
       "<module 'utils.loadNiiData' from 'utils/loadNiiData.py'>"
      ]
     },
     "execution_count": 33,
     "metadata": {},
     "output_type": "execute_result"
    }
   ],
   "source": [
    "import utils.loadNiiData as lni\n",
    "reload(lni)"
   ]
  },
  {
   "cell_type": "code",
   "execution_count": 34,
   "metadata": {
    "collapsed": true
   },
   "outputs": [],
   "source": [
    "patientDir = '/home/mountain/Desktop/BrainNets/data/normNiiTrainingDataWithROI/HGG/Brats17_2013_13_1'"
   ]
  },
  {
   "cell_type": "code",
   "execution_count": 35,
   "metadata": {
    "scrolled": true
   },
   "outputs": [],
   "source": [
    "arrays = lni.loadSinglePatientData(patientDir)"
   ]
  },
  {
   "cell_type": "code",
   "execution_count": 36,
   "metadata": {
    "collapsed": true
   },
   "outputs": [],
   "source": [
    "image = arrays[0]"
   ]
  },
  {
   "cell_type": "code",
   "execution_count": 37,
   "metadata": {},
   "outputs": [
    {
     "data": {
      "text/plain": [
       "(4, 240, 240, 155)"
      ]
     },
     "execution_count": 37,
     "metadata": {},
     "output_type": "execute_result"
    }
   ],
   "source": [
    "image.shape"
   ]
  },
  {
   "cell_type": "code",
   "execution_count": 41,
   "metadata": {
    "scrolled": true
   },
   "outputs": [
    {
     "data": {
      "text/plain": [
       "<module 'utils.sampleNii' from 'utils/sampleNii.pyc'>"
      ]
     },
     "execution_count": 41,
     "metadata": {},
     "output_type": "execute_result"
    }
   ],
   "source": [
    "import utils.sampleNii as sni\n",
    "reload(sni)"
   ]
  },
  {
   "cell_type": "code",
   "execution_count": 42,
   "metadata": {},
   "outputs": [
    {
     "ename": "AssertionError",
     "evalue": "(17, 17, 14):(17, 17, 17):[[33, 50], [36, 53], [141, 158]]",
     "output_type": "error",
     "traceback": [
      "\u001b[0;31m---------------------------------------------------------------------------\u001b[0m",
      "\u001b[0;31mAssertionError\u001b[0m                            Traceback (most recent call last)",
      "\u001b[0;32m<ipython-input-42-182cf3b03547>\u001b[0m in \u001b[0;36m<module>\u001b[0;34m()\u001b[0m\n\u001b[1;32m      5\u001b[0m                                \u001b[0;36m15\u001b[0m\u001b[0;34m,\u001b[0m\u001b[0;34m\u001b[0m\u001b[0m\n\u001b[1;32m      6\u001b[0m                                \u001b[0mTrue\u001b[0m\u001b[0;34m,\u001b[0m\u001b[0;34m\u001b[0m\u001b[0m\n\u001b[0;32m----> 7\u001b[0;31m                                True)\n\u001b[0m",
      "\u001b[0;32m/home/mountain/Desktop/BrainNets/code/utils/sampleNii.pyc\u001b[0m in \u001b[0;36msampleWholeBrain\u001b[0;34m(patientDir, normType, modals, testSampleSize, receptiveField, label, useROITest)\u001b[0m\n\u001b[1;32m    516\u001b[0m     samplesOfWholeImage = getSamplesOfAPatient(patientImageArray, \n\u001b[1;32m    517\u001b[0m                                                \u001b[0mwholeImageCoordList\u001b[0m\u001b[0;34m,\u001b[0m\u001b[0;34m\u001b[0m\u001b[0m\n\u001b[0;32m--> 518\u001b[0;31m                                                testSampleSize)\n\u001b[0m\u001b[1;32m    519\u001b[0m \u001b[0;34m\u001b[0m\u001b[0m\n\u001b[1;32m    520\u001b[0m     labelsOfWholeImage, wholeLabelCoordList = getLabelsOfAPatient(gTArray, \n",
      "\u001b[0;32m/home/mountain/Desktop/BrainNets/code/utils/sampleNii.pyc\u001b[0m in \u001b[0;36mgetSamplesOfAPatient\u001b[0;34m(patientImageArray, samplesCdList, trainSampleSize)\u001b[0m\n\u001b[1;32m    279\u001b[0m                    '{}:{}:{}'.format(sampleArrayList[-1].shape, \n\u001b[1;32m    280\u001b[0m                                      \u001b[0mtuple\u001b[0m\u001b[0;34m(\u001b[0m\u001b[0mtrainSampleSize\u001b[0m\u001b[0;34m)\u001b[0m\u001b[0;34m,\u001b[0m\u001b[0;34m\u001b[0m\u001b[0m\n\u001b[0;32m--> 281\u001b[0;31m                                      sampleCd)\n\u001b[0m\u001b[1;32m    282\u001b[0m \u001b[0;34m\u001b[0m\u001b[0m\n\u001b[1;32m    283\u001b[0m         \u001b[0msampleArray\u001b[0m \u001b[0;34m=\u001b[0m \u001b[0mnp\u001b[0m\u001b[0;34m.\u001b[0m\u001b[0masarray\u001b[0m\u001b[0;34m(\u001b[0m\u001b[0msampleArrayList\u001b[0m\u001b[0;34m,\u001b[0m \u001b[0mdtype\u001b[0m \u001b[0;34m=\u001b[0m \u001b[0mtheano\u001b[0m\u001b[0;34m.\u001b[0m\u001b[0mconfig\u001b[0m\u001b[0;34m.\u001b[0m\u001b[0mfloatX\u001b[0m\u001b[0;34m)\u001b[0m\u001b[0;34m\u001b[0m\u001b[0m\n",
      "\u001b[0;31mAssertionError\u001b[0m: (17, 17, 14):(17, 17, 17):[[33, 50], [36, 53], [141, 158]]"
     ]
    }
   ],
   "source": [
    "samples = sni.sampleWholeBrain(patientDir, \n",
    "                               'normImage', \n",
    "                               ['t1ce', 't1', 't2', 'flair'], \n",
    "                               [17, 17, 17], \n",
    "                               15,\n",
    "                               True, \n",
    "                               True)"
   ]
  },
  {
   "cell_type": "code",
   "execution_count": null,
   "metadata": {
    "collapsed": true
   },
   "outputs": [],
   "source": []
  }
 ],
 "metadata": {
  "kernelspec": {
   "display_name": "Python 2",
   "language": "python",
   "name": "python2"
  },
  "language_info": {
   "codemirror_mode": {
    "name": "ipython",
    "version": 2
   },
   "file_extension": ".py",
   "mimetype": "text/x-python",
   "name": "python",
   "nbconvert_exporter": "python",
   "pygments_lexer": "ipython2",
   "version": "2.7.13"
  }
 },
 "nbformat": 4,
 "nbformat_minor": 2
}

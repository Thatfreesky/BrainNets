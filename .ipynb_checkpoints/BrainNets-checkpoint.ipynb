{
 "cells": [
  {
   "cell_type": "code",
   "execution_count": 1,
   "metadata": {
    "collapsed": true
   },
   "outputs": [],
   "source": [
    "import logging\n",
    "logging.basicConfig(filename = '../logging/BrainNetsLog.log', \n",
    "                    filemode='w', \n",
    "                    format = '%(asctime)s %(name)s %(lineno)d %(funcName)s %(levelname)s:%(message)s', \n",
    "                    level = logging.INFO)\n",
    "logger = logging.getLogger('Jupyter Notebook')"
   ]
  },
  {
   "cell_type": "code",
   "execution_count": 2,
   "metadata": {
    "scrolled": false
   },
   "outputs": [
    {
     "name": "stderr",
     "output_type": "stream",
     "text": [
      "/home/mountain/anaconda3/envs/biomediclasagne/lib/python2.7/site-packages/theano/gpuarray/dnn.py:135: UserWarning: Your cuDNN version is more recent than Theano. If you encounter problems, try updating Theano or downgrading cuDNN to version 5.1.\n",
      "  warnings.warn(\"Your cuDNN version is more recent than \"\n",
      "Using cuDNN version 6020 on context None\n",
      "Mapped name None to device cuda0: GeForce GTX 750 Ti (0000:01:00.0)\n"
     ]
    }
   ],
   "source": [
    "import BrainNets as bn\n",
    "reload(bn)\n",
    "import dataOperator as do\n",
    "reload(do)\n",
    "import models.SectorNet as sn\n",
    "\n",
    "import time\n",
    "import theano\n",
    "import numpy as np\n",
    "import SimpleITK as sitk\n",
    "import matplotlib.pyplot as plt\n",
    "from tqdm import tqdm_notebook\n",
    "\n",
    "%matplotlib inline "
   ]
  },
  {
   "cell_type": "code",
   "execution_count": 3,
   "metadata": {
    "collapsed": true,
    "scrolled": true
   },
   "outputs": [],
   "source": [
    "sectorNet = sn.SectorNet('/home/mountain/Desktop/BrainNets/code/configs/modelConfigs/SectorNetModel.cfg')\n",
    "trainFunc = sectorNet.trainFunction()\n",
    "valAndTestFunc = sectorNet.valAndTestFunction()"
   ]
  },
  {
   "cell_type": "code",
   "execution_count": 8,
   "metadata": {
    "collapsed": true
   },
   "outputs": [],
   "source": [
    "trainCubes = do.cubesGetor(cubeDirectory = '../data/tryGenerateCubeData/', \n",
    "                           sourceDataDirectory = '../data/SimpleExploreSomeData/', \n",
    "                           subStructure = 'non-enhancing',\n",
    "                           cubeSize = 17,\n",
    "                           trainOrVal = 'train',\n",
    "                           onTheFly = True)\n",
    "valCubes = do.cubesGetor(cubeDirectory = '../data/tryGenerateCubeData/', \n",
    "                         sourceDataDirectory = '../data/SimpleExploreSomeData/',\n",
    "                         subStructure = 'non-enhancing',\n",
    "                         cubeSize = 17,\n",
    "                         onTheFly = True, \n",
    "                         trainOrVal = 'val')"
   ]
  },
  {
   "cell_type": "code",
   "execution_count": 9,
   "metadata": {
    "collapsed": true
   },
   "outputs": [],
   "source": [
    "numEpochs = 2"
   ]
  },
  {
   "cell_type": "code",
   "execution_count": 10,
   "metadata": {
    "collapsed": true
   },
   "outputs": [],
   "source": [
    "trainingLoss = []\n",
    "validationLoss = []\n",
    "validationACC = []"
   ]
  },
  {
   "cell_type": "code",
   "execution_count": 11,
   "metadata": {
    "scrolled": true
   },
   "outputs": [
    {
     "name": "stdout",
     "output_type": "stream",
     "text": [
      "trainLoss:  0.303810685873 trainACC:  0.97000002861\n",
      "trainLoss:  0.287639528513 trainACC:  0.959999978542\n",
      "trainLoss:  0.281110733747 trainACC:  0.980000019073\n",
      "trainLoss:  0.315807640553 trainACC:  0.930000007153\n",
      "trainLoss:  0.285057276487 trainACC:  0.97000002861\n",
      "trainLoss:  0.313205599785 trainACC:  0.949999988079\n",
      "trainLoss:  0.300411790609 trainACC:  0.949999988079\n",
      "trainLoss:  0.278229683638 trainACC:  0.980000019073\n",
      "trainLoss:  0.289932698011 trainACC:  0.949999988079\n",
      "trainLoss:  0.278947234154 trainACC:  0.97000002861\n",
      "trainLoss:  0.285155951977 trainACC:  0.97000002861\n",
      "trainLoss:  0.311768174171 trainACC:  0.930000007153\n",
      "trainLoss:  0.303165078163 trainACC:  0.949999988079\n",
      "trainLoss:  0.310494363308 trainACC:  0.949999988079\n",
      "trainLoss:  0.25863173604 trainACC:  1.0\n",
      "trainLoss:  0.28717854619 trainACC:  0.97000002861\n",
      "trainLoss:  0.261990517378 trainACC:  1.0\n",
      "trainLoss:  0.293874382973 trainACC:  0.949999988079\n",
      "trainLoss:  0.276316940784 trainACC:  0.990000009537\n",
      "trainLoss:  0.263103574514 trainACC:  0.990000009537\n",
      "trainLoss:  0.301669985056 trainACC:  0.959999978542\n",
      "trainLoss:  0.291928648949 trainACC:  0.97000002861\n",
      "trainLoss:  0.274740129709 trainACC:  0.990000009537\n",
      "trainLoss:  0.311739891768 trainACC:  0.949999988079\n",
      "trainLoss:  0.301713556051 trainACC:  0.949999988079\n",
      "trainLoss:  0.263525664806 trainACC:  0.990000009537\n",
      "trainLoss:  0.267064273357 trainACC:  0.990000009537\n",
      "trainLoss:  0.288544088602 trainACC:  0.97000002861\n",
      "trainLoss:  0.264329820871 trainACC:  0.990000009537\n",
      "trainLoss:  0.270262956619 trainACC:  0.97000002861\n",
      "trainLoss:  0.288830637932 trainACC:  0.959999978542\n",
      "Epoch 1 of 2 took 83.467s\n",
      "  training loss:\t\t0.287425\n",
      "  validation loss:\t\t0.273567\n",
      "  validation accuracy:\t\t97.67 %\n",
      "trainLoss:  0.282167464495 trainACC:  0.97000002861\n",
      "trainLoss:  0.272716909647 trainACC:  0.97000002861\n",
      "trainLoss:  0.253265738487 trainACC:  1.0\n",
      "trainLoss:  0.276376575232 trainACC:  0.97000002861\n",
      "trainLoss:  0.282526612282 trainACC:  0.97000002861\n",
      "trainLoss:  0.274987757206 trainACC:  0.959999978542\n",
      "trainLoss:  0.256057977676 trainACC:  1.0\n",
      "trainLoss:  0.263109475374 trainACC:  0.980000019073\n",
      "trainLoss:  0.275629073381 trainACC:  0.97000002861\n",
      "trainLoss:  0.273285955191 trainACC:  0.980000019073\n",
      "trainLoss:  0.277808755636 trainACC:  0.959999978542\n",
      "trainLoss:  0.264279693365 trainACC:  0.990000009537\n",
      "trainLoss:  0.279706120491 trainACC:  0.97000002861\n",
      "trainLoss:  0.291866481304 trainACC:  0.959999978542\n",
      "trainLoss:  0.292375057936 trainACC:  0.959999978542\n",
      "trainLoss:  0.256253272295 trainACC:  1.0\n",
      "trainLoss:  0.263460248709 trainACC:  0.980000019073\n",
      "trainLoss:  0.277471572161 trainACC:  0.97000002861\n",
      "trainLoss:  0.254832059145 trainACC:  0.990000009537\n",
      "trainLoss:  0.290669739246 trainACC:  0.949999988079\n",
      "trainLoss:  0.243551194668 trainACC:  1.0\n",
      "trainLoss:  0.266462206841 trainACC:  0.97000002861\n",
      "trainLoss:  0.291966438293 trainACC:  0.930000007153\n",
      "trainLoss:  0.261834859848 trainACC:  0.980000019073\n",
      "trainLoss:  0.25795263052 trainACC:  0.97000002861\n",
      "trainLoss:  0.264880210161 trainACC:  0.980000019073\n",
      "trainLoss:  0.243229657412 trainACC:  0.990000009537\n",
      "trainLoss:  0.32994389534 trainACC:  0.910000026226\n",
      "trainLoss:  0.26356780529 trainACC:  0.959999978542\n",
      "trainLoss:  0.273453712463 trainACC:  0.97000002861\n",
      "trainLoss:  0.263589262962 trainACC:  0.980000019073\n",
      "Epoch 2 of 2 took 82.253s\n",
      "  training loss:\t\t0.271590\n",
      "  validation loss:\t\t0.243518\n",
      "  validation accuracy:\t\t98.33 %\n"
     ]
    }
   ],
   "source": [
    "for epoch in range(numEpochs):\n",
    "    logger.info('{} th of {} epochs'.format(epoch, numEpochs))\n",
    "    \n",
    "    trainError = 0\n",
    "    startTime = time.time()\n",
    "    trainBatch = 0\n",
    "    \n",
    "#     for batch in synthsisTrain.generateSynthesisData(1000, group0 = (0,5), group1 = (1, 5)):\n",
    "    for batch in trainCubes.fetchCubes(batchSize = 100, parallel = True):\n",
    "        inputs, targets = batch\n",
    "        trainLoss, trainACC = trainFunc(inputs, targets / 3)\n",
    "\n",
    "        trainError += trainLoss\n",
    "        trainBatch += 1\n",
    "        \n",
    "        print 'trainLoss: ', trainLoss, 'trainACC: ', trainACC\n",
    "\n",
    "    valError = 0\n",
    "    valACC = 0\n",
    "    valBatches = 0\n",
    "        \n",
    "#     for batch in synthsisVal.generateSynthesisData(1000, group0 = (1,5), group1 = (1, 5)):\n",
    "    for batch in valCubes.fetchCubes(batchSize = 100, parallel = True):\n",
    "        inputs, targets = batch\n",
    "        targets = targets\n",
    "        valAndTestLoss, valAndTestACC = valAndTestFunc(inputs, targets / 3)\n",
    "        valError += valAndTestLoss\n",
    "        valACC += valAndTestACC\n",
    "        valBatches += 1\n",
    "        \n",
    "    print \"Epoch {} of {} took {:.3f}s\".format(epoch + 1, numEpochs, time.time() - startTime)\n",
    "    print \"  training loss:\\t\\t{:.6f}\".format(trainError / trainBatch)\n",
    "    print \"  validation loss:\\t\\t{:.6f}\".format(valError / valBatches)\n",
    "    print \"  validation accuracy:\\t\\t{:.2f} %\".format(valACC / valBatches * 100)\n",
    "    \n",
    "    trainingLoss.append(trainError / trainBatch)\n",
    "    validationLoss.append(valError / valBatches)\n",
    "    validationACC.append(valACC / valBatches * 100)"
   ]
  },
  {
   "cell_type": "code",
   "execution_count": null,
   "metadata": {
    "collapsed": true,
    "scrolled": false
   },
   "outputs": [],
   "source": [
    "plt.plot(trainingLoss)\n",
    "plt.ylabel('trainingLoss')\n",
    "plt.show()"
   ]
  },
  {
   "cell_type": "code",
   "execution_count": null,
   "metadata": {
    "collapsed": true
   },
   "outputs": [],
   "source": [
    "plt.plot(validationLoss)\n",
    "plt.ylabel('validationLoss')\n",
    "plt.show()"
   ]
  },
  {
   "cell_type": "code",
   "execution_count": null,
   "metadata": {
    "collapsed": true
   },
   "outputs": [],
   "source": [
    "plt.plot(validationACC)\n",
    "plt.ylabel('validationACC')\n",
    "plt.show()"
   ]
  },
  {
   "cell_type": "code",
   "execution_count": null,
   "metadata": {
    "collapsed": true
   },
   "outputs": [],
   "source": [
    "theano.printing.debugprint(trainFunc)"
   ]
  },
  {
   "cell_type": "code",
   "execution_count": null,
   "metadata": {
    "collapsed": true,
    "scrolled": false
   },
   "outputs": [],
   "source": [
    "%time do.normalizeDataSet(dataPath = '../data/trainParallelNorm/', normalizedDataDir = '../data/outPutPara1/',parallel = False)"
   ]
  },
  {
   "cell_type": "code",
   "execution_count": null,
   "metadata": {
    "collapsed": true,
    "scrolled": false
   },
   "outputs": [],
   "source": [
    "%time do.normalizeDataSet(dataPath = '../data/trainParallelNorm/', normalizedDataDir = '../data/outPutPara2/',parallel = True)"
   ]
  },
  {
   "cell_type": "code",
   "execution_count": null,
   "metadata": {
    "collapsed": true,
    "scrolled": true
   },
   "outputs": [],
   "source": [
    "do.makeCubesOnTheFly(dataPath = '../data/SimpleExploreSomeData/', \n",
    "             cubeDirectory = '../data/tryGenerateCubeData1/',\n",
    "             cubeSize = 33, \n",
    "             parallel = False)"
   ]
  },
  {
   "cell_type": "code",
   "execution_count": null,
   "metadata": {
    "collapsed": true
   },
   "outputs": [],
   "source": [
    "do.makeCubesOnTheFly(dataPath = '../data/SimpleExploreSomeData/', \n",
    "             cubeDirectory = '../data/tryGenerateCubeData/',\n",
    "             cubeSize = 33, \n",
    "             parallel = True)"
   ]
  },
  {
   "cell_type": "code",
   "execution_count": null,
   "metadata": {
    "collapsed": true
   },
   "outputs": [],
   "source": []
  },
  {
   "cell_type": "code",
   "execution_count": null,
   "metadata": {
    "collapsed": true
   },
   "outputs": [],
   "source": [
    "synthsisTrain = do.cubesGetor(cubeDirectory = '../data/tryGenerateCubeData/', batchSize = 1000)\n",
    "synthsisVal = do.cubesGetor(cubeDirectory = '../data/tryGenerateCubeData/', trainOrVal = 'val', batchSize = 1000)"
   ]
  },
  {
   "cell_type": "code",
   "execution_count": null,
   "metadata": {
    "collapsed": true,
    "scrolled": true
   },
   "outputs": [],
   "source": [
    "startTime = time.time()\n",
    "for inputs, targets in trainCubes.fetchCubes(batchSize = 100, parallel = False):\n",
    "    print time.time() - startTime\n",
    "    startTime = time.time()"
   ]
  },
  {
   "cell_type": "code",
   "execution_count": null,
   "metadata": {
    "collapsed": true
   },
   "outputs": [],
   "source": [
    "startTime = time.time()\n",
    "for inputs, targets in trainCubes.fetchCubes(batchSize = 100, parallel = True):\n",
    "    print time.time() - startTime\n",
    "    startTime = time.time()"
   ]
  }
 ],
 "metadata": {
  "kernelspec": {
   "display_name": "Python 2",
   "language": "python",
   "name": "python2"
  },
  "language_info": {
   "codemirror_mode": {
    "name": "ipython",
    "version": 2
   },
   "file_extension": ".py",
   "mimetype": "text/x-python",
   "name": "python",
   "nbconvert_exporter": "python",
   "pygments_lexer": "ipython2",
   "version": "2.7.13"
  }
 },
 "nbformat": 4,
 "nbformat_minor": 2
}

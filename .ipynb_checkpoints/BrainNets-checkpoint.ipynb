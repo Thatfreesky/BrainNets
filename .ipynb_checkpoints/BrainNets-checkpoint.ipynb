{
 "cells": [
  {
   "cell_type": "code",
   "execution_count": 1,
   "metadata": {
    "collapsed": true
   },
   "outputs": [],
   "source": [
    "import logging\n",
    "logging.basicConfig(filename = '../logging/BrainNetsLog.log', \n",
    "                    filemode='w', \n",
    "                    format = '%(asctime)s %(name)s %(lineno)d %(funcName)s %(levelname)s:%(message)s', \n",
    "                    level = logging.INFO)\n",
    "logger = logging.getLogger('Jupyter Notebook')"
   ]
  },
  {
   "cell_type": "code",
   "execution_count": 2,
   "metadata": {
    "scrolled": false
   },
   "outputs": [
    {
     "name": "stderr",
     "output_type": "stream",
     "text": [
      "/home/mountain/anaconda3/envs/biomediclasagne/lib/python2.7/site-packages/theano/gpuarray/dnn.py:135: UserWarning: Your cuDNN version is more recent than Theano. If you encounter problems, try updating Theano or downgrading cuDNN to version 5.1.\n",
      "  warnings.warn(\"Your cuDNN version is more recent than \"\n",
      "Using cuDNN version 6020 on context None\n",
      "Mapped name None to device cuda0: GeForce GTX 750 Ti (0000:01:00.0)\n"
     ]
    }
   ],
   "source": [
    "import BrainNets as bn\n",
    "reload(bn)\n",
    "import dataOperator as do\n",
    "reload(do)\n",
    "import models.SectorNet as sn\n",
    "\n",
    "import time\n",
    "import theano\n",
    "import numpy as np\n",
    "import SimpleITK as sitk\n",
    "import matplotlib.pyplot as plt\n",
    "from tqdm import tqdm_notebook\n",
    "\n",
    "%matplotlib inline "
   ]
  },
  {
   "cell_type": "code",
   "execution_count": 3,
   "metadata": {
    "collapsed": true,
    "scrolled": true
   },
   "outputs": [],
   "source": [
    "sectorNet = sn.SectorNet('/home/mountain/Desktop/BrainNets/code/configs/modelConfigs/SectorNetModel.cfg')\n",
    "trainFunc = sectorNet.trainFunction()\n",
    "valAndTestFunc = sectorNet.valAndTestFunction()"
   ]
  },
  {
   "cell_type": "code",
   "execution_count": 4,
   "metadata": {
    "collapsed": true
   },
   "outputs": [],
   "source": [
    "trainCubes = do.cubesGetor(cubeDirectory = '../data/tryGenerateCubeData/', \n",
    "                           sourceDataDirectory = '../data/SimpleExploreSomeData/', \n",
    "                           subStructure = 'non-enhancing',\n",
    "                           cubeSize = 17,\n",
    "                           trainOrVal = 'train',\n",
    "                           onTheFly = True)\n",
    "valCubes = do.cubesGetor(cubeDirectory = '../data/tryGenerateCubeData/', \n",
    "                         sourceDataDirectory = '../data/SimpleExploreSomeData/',\n",
    "                         subStructure = 'non-enhancing',\n",
    "                         cubeSize = 17,\n",
    "                         onTheFly = True, \n",
    "                         trainOrVal = 'val')"
   ]
  },
  {
   "cell_type": "code",
   "execution_count": 5,
   "metadata": {
    "collapsed": true
   },
   "outputs": [],
   "source": [
    "numEpochs = 4"
   ]
  },
  {
   "cell_type": "code",
   "execution_count": 6,
   "metadata": {
    "collapsed": true
   },
   "outputs": [],
   "source": [
    "trainingLoss = []\n",
    "validationLoss = []\n",
    "validationACC = []"
   ]
  },
  {
   "cell_type": "code",
   "execution_count": null,
   "metadata": {
    "scrolled": true
   },
   "outputs": [
    {
     "name": "stdout",
     "output_type": "stream",
     "text": [
      "0.706139922142 0.579999983311\n",
      "0.535633087158 0.670000016689\n",
      "0.438118547201 0.810000002384\n",
      "0.418981552124 0.920000016689\n",
      "0.392769098282 0.930000007153\n",
      "0.405160784721 0.910000026226\n",
      "0.396758198738 0.889999985695\n",
      "0.357275158167 0.939999997616\n",
      "0.369100987911 0.939999997616\n",
      "0.362949490547 0.949999988079\n",
      "0.406369775534 0.930000007153\n",
      "0.384882211685 0.910000026226\n",
      "0.384325861931 0.920000016689\n",
      "0.349830120802 0.980000019073\n",
      "0.398659169674 0.870000004768\n"
     ]
    },
    {
     "name": "stderr",
     "output_type": "stream",
     "text": [
      "Process PoolWorker-64:\n",
      "Process PoolWorker-63:\n",
      "Traceback (most recent call last):\n",
      "Process PoolWorker-62:\n",
      "Process PoolWorker-61:\n",
      "Traceback (most recent call last):\n",
      "  File \"/home/mountain/anaconda3/envs/biomediclasagne/lib/python2.7/site-packages/multiprocess/process.py\", line 258, in _bootstrap\n",
      "  File \"/home/mountain/anaconda3/envs/biomediclasagne/lib/python2.7/site-packages/multiprocess/process.py\", line 258, in _bootstrap\n",
      "    self.run()\n",
      "Traceback (most recent call last):\n",
      "    self.run()\n",
      "  File \"/home/mountain/anaconda3/envs/biomediclasagne/lib/python2.7/site-packages/multiprocess/process.py\", line 114, in run\n",
      "  File \"/home/mountain/anaconda3/envs/biomediclasagne/lib/python2.7/site-packages/multiprocess/process.py\", line 114, in run\n",
      "    self._target(*self._args, **self._kwargs)\n",
      "  File \"/home/mountain/anaconda3/envs/biomediclasagne/lib/python2.7/site-packages/multiprocess/process.py\", line 258, in _bootstrap\n",
      "Traceback (most recent call last):\n",
      "  File \"/home/mountain/anaconda3/envs/biomediclasagne/lib/python2.7/site-packages/multiprocess/process.py\", line 258, in _bootstrap\n",
      "  File \"/home/mountain/anaconda3/envs/biomediclasagne/lib/python2.7/site-packages/multiprocess/pool.py\", line 117, in worker\n",
      "    self.run()\n",
      "    self.run()\n",
      "  File \"/home/mountain/anaconda3/envs/biomediclasagne/lib/python2.7/site-packages/multiprocess/process.py\", line 114, in run\n",
      "    put((job, i, result))\n",
      "    self._target(*self._args, **self._kwargs)\n",
      "  File \"/home/mountain/anaconda3/envs/biomediclasagne/lib/python2.7/site-packages/multiprocess/process.py\", line 114, in run\n",
      "  File \"/home/mountain/anaconda3/envs/biomediclasagne/lib/python2.7/site-packages/multiprocess/pool.py\", line 102, in worker\n",
      "    self._target(*self._args, **self._kwargs)\n",
      "    task = get()\n",
      "  File \"/home/mountain/anaconda3/envs/biomediclasagne/lib/python2.7/site-packages/multiprocess/queues.py\", line 381, in get\n",
      "    return recv()\n",
      "KeyboardInterrupt\n",
      "  File \"/home/mountain/anaconda3/envs/biomediclasagne/lib/python2.7/site-packages/multiprocess/pool.py\", line 117, in worker\n",
      "  File \"/home/mountain/anaconda3/envs/biomediclasagne/lib/python2.7/site-packages/multiprocess/queues.py\", line 393, in put\n",
      "KeyboardInterrupt\n",
      "    return send(obj)\n",
      "    put((job, i, result))\n",
      "  File \"/home/mountain/anaconda3/envs/biomediclasagne/lib/python2.7/site-packages/multiprocess/queues.py\", line 395, in put\n",
      "    self._target(*self._args, **self._kwargs)\n",
      "    wacquire()\n",
      "  File \"/home/mountain/anaconda3/envs/biomediclasagne/lib/python2.7/site-packages/multiprocess/pool.py\", line 113, in worker\n",
      "KeyboardInterrupt\n",
      "    result = (True, func(*args, **kwds))\n",
      "  File \"dataOperator.py\", line 733, in fromIdxGetDataItem\n",
      "    image3DArray = sitk.GetArrayFromImage(image3D)\n",
      "  File \"/home/mountain/anaconda3/envs/biomediclasagne/lib/python2.7/site-packages/SimpleITK/SimpleITK.py\", line 3416, in GetArrayFromImage\n",
      "    return numpy.array(arrayView, copy=True)\n",
      "KeyboardInterrupt\n",
      "Process PoolWorker-67:\n",
      "Process PoolWorker-65:\n",
      "Process PoolWorker-66:\n",
      "Process PoolWorker-68:\n",
      "Traceback (most recent call last):\n",
      "  File \"/home/mountain/anaconda3/envs/biomediclasagne/lib/python2.7/site-packages/multiprocess/process.py\", line 258, in _bootstrap\n",
      "Traceback (most recent call last):\n",
      "Traceback (most recent call last):\n",
      "  File \"/home/mountain/anaconda3/envs/biomediclasagne/lib/python2.7/site-packages/multiprocess/process.py\", line 258, in _bootstrap\n",
      "    self.run()\n",
      "Traceback (most recent call last):\n",
      "  File \"/home/mountain/anaconda3/envs/biomediclasagne/lib/python2.7/site-packages/multiprocess/process.py\", line 114, in run\n",
      "  File \"/home/mountain/anaconda3/envs/biomediclasagne/lib/python2.7/site-packages/multiprocess/process.py\", line 258, in _bootstrap\n",
      "    self.run()\n",
      "    self._target(*self._args, **self._kwargs)\n",
      "    self.run()\n",
      "  File \"/home/mountain/anaconda3/envs/biomediclasagne/lib/python2.7/site-packages/multiprocess/process.py\", line 114, in run\n",
      "  File \"/home/mountain/anaconda3/envs/biomediclasagne/lib/python2.7/site-packages/multiprocess/pool.py\", line 102, in worker\n",
      "    self._target(*self._args, **self._kwargs)\n",
      "    task = get()\n",
      "  File \"/home/mountain/anaconda3/envs/biomediclasagne/lib/python2.7/site-packages/multiprocess/process.py\", line 114, in run\n",
      "  File \"/home/mountain/anaconda3/envs/biomediclasagne/lib/python2.7/site-packages/multiprocess/pool.py\", line 102, in worker\n",
      "    racquire()\n",
      "  File \"/home/mountain/anaconda3/envs/biomediclasagne/lib/python2.7/site-packages/multiprocess/queues.py\", line 379, in get\n",
      "KeyboardInterrupt\n",
      "    self._target(*self._args, **self._kwargs)\n",
      "    task = get()\n",
      "  File \"/home/mountain/anaconda3/envs/biomediclasagne/lib/python2.7/site-packages/multiprocess/pool.py\", line 102, in worker\n",
      "  File \"/home/mountain/anaconda3/envs/biomediclasagne/lib/python2.7/site-packages/multiprocess/queues.py\", line 381, in get\n",
      "    task = get()\n",
      "  File \"/home/mountain/anaconda3/envs/biomediclasagne/lib/python2.7/site-packages/multiprocess/queues.py\", line 379, in get\n",
      "  File \"/home/mountain/anaconda3/envs/biomediclasagne/lib/python2.7/site-packages/multiprocess/process.py\", line 258, in _bootstrap\n",
      "    racquire()\n",
      "    self.run()\n",
      "    return recv()\n",
      "KeyboardInterrupt\n",
      "  File \"/home/mountain/anaconda3/envs/biomediclasagne/lib/python2.7/site-packages/multiprocess/process.py\", line 114, in run\n",
      "KeyboardInterrupt\n",
      "    self._target(*self._args, **self._kwargs)\n",
      "  File \"/home/mountain/anaconda3/envs/biomediclasagne/lib/python2.7/site-packages/multiprocess/pool.py\", line 102, in worker\n",
      "    task = get()\n",
      "  File \"/home/mountain/anaconda3/envs/biomediclasagne/lib/python2.7/site-packages/multiprocess/queues.py\", line 379, in get\n",
      "    racquire()\n",
      "KeyboardInterrupt\n"
     ]
    }
   ],
   "source": [
    "for epoch in range(numEpochs):\n",
    "    logger.info('{} th of {} epochs'.format(epoch, numEpochs))\n",
    "    \n",
    "    trainError = 0\n",
    "    startTime = time.time()\n",
    "    trainBatch = 0\n",
    "    \n",
    "#     for batch in synthsisTrain.generateSynthesisData(1000, group0 = (0,5), group1 = (1, 5)):\n",
    "    for batch in trainCubes.fetchCubes(batchSize = 100, parallel = True):\n",
    "        inputs, targets = batch\n",
    "        trainLoss, trainACC = trainFunc(inputs, targets / 3)\n",
    "\n",
    "        trainError += trainLoss\n",
    "        trainBatch += 1\n",
    "        \n",
    "        print trainLoss, trainACC\n",
    "\n",
    "    valError = 0\n",
    "    valACC = 0\n",
    "    valBatches = 0\n",
    "        \n",
    "#     for batch in synthsisVal.generateSynthesisData(1000, group0 = (1,5), group1 = (1, 5)):\n",
    "    for batch in valCubes.fetchCubes(batchSize = 100, parallel = True):\n",
    "        inputs, targets = batch\n",
    "        targets = targets\n",
    "        valAndTestLoss, valAndTestACC = valAndTestFunc(inputs, targets)\n",
    "        valError += valAndTestLoss\n",
    "        valACC += valAndTestACC\n",
    "        valBatches += 1\n",
    "        \n",
    "    print \"Epoch {} of {} took {:.3f}s\".format(epoch + 1, numEpochs, time.time() - startTime)\n",
    "    print \"  training loss:\\t\\t{:.6f}\".format(trainError / trainBatch)\n",
    "    print \"  validation loss:\\t\\t{:.6f}\".format(valError / valBatches)\n",
    "    print \"  validation accuracy:\\t\\t{:.2f} %\".format(valACC / valBatches * 100)\n",
    "    \n",
    "    trainingLoss.append(trainError / trainBatch)\n",
    "    validationLoss.append(valError / valBatches)\n",
    "    validationACC.append(valACC / valBatches * 100)"
   ]
  },
  {
   "cell_type": "code",
   "execution_count": null,
   "metadata": {
    "collapsed": true,
    "scrolled": false
   },
   "outputs": [],
   "source": [
    "plt.plot(trainingLoss)\n",
    "plt.ylabel('trainingLoss')\n",
    "plt.show()"
   ]
  },
  {
   "cell_type": "code",
   "execution_count": null,
   "metadata": {
    "collapsed": true
   },
   "outputs": [],
   "source": [
    "plt.plot(validationLoss)\n",
    "plt.ylabel('validationLoss')\n",
    "plt.show()"
   ]
  },
  {
   "cell_type": "code",
   "execution_count": null,
   "metadata": {
    "collapsed": true
   },
   "outputs": [],
   "source": [
    "plt.plot(validationACC)\n",
    "plt.ylabel('validationACC')\n",
    "plt.show()"
   ]
  },
  {
   "cell_type": "code",
   "execution_count": null,
   "metadata": {
    "collapsed": true
   },
   "outputs": [],
   "source": [
    "theano.printing.debugprint(trainFunc)"
   ]
  },
  {
   "cell_type": "code",
   "execution_count": null,
   "metadata": {
    "collapsed": true,
    "scrolled": false
   },
   "outputs": [],
   "source": [
    "%time do.normalizeDataSet(dataPath = '../data/trainParallelNorm/', normalizedDataDir = '../data/outPutPara1/',parallel = False)"
   ]
  },
  {
   "cell_type": "code",
   "execution_count": null,
   "metadata": {
    "collapsed": true,
    "scrolled": false
   },
   "outputs": [],
   "source": [
    "%time do.normalizeDataSet(dataPath = '../data/trainParallelNorm/', normalizedDataDir = '../data/outPutPara2/',parallel = True)"
   ]
  },
  {
   "cell_type": "code",
   "execution_count": null,
   "metadata": {
    "collapsed": true,
    "scrolled": true
   },
   "outputs": [],
   "source": [
    "do.makeCubesOnTheFly(dataPath = '../data/SimpleExploreSomeData/', \n",
    "             cubeDirectory = '../data/tryGenerateCubeData1/',\n",
    "             cubeSize = 33, \n",
    "             parallel = False)"
   ]
  },
  {
   "cell_type": "code",
   "execution_count": null,
   "metadata": {
    "collapsed": true
   },
   "outputs": [],
   "source": [
    "do.makeCubesOnTheFly(dataPath = '../data/SimpleExploreSomeData/', \n",
    "             cubeDirectory = '../data/tryGenerateCubeData/',\n",
    "             cubeSize = 33, \n",
    "             parallel = True)"
   ]
  },
  {
   "cell_type": "code",
   "execution_count": null,
   "metadata": {
    "collapsed": true
   },
   "outputs": [],
   "source": []
  },
  {
   "cell_type": "code",
   "execution_count": null,
   "metadata": {
    "collapsed": true
   },
   "outputs": [],
   "source": [
    "synthsisTrain = do.cubesGetor(cubeDirectory = '../data/tryGenerateCubeData/', batchSize = 1000)\n",
    "synthsisVal = do.cubesGetor(cubeDirectory = '../data/tryGenerateCubeData/', trainOrVal = 'val', batchSize = 1000)"
   ]
  },
  {
   "cell_type": "code",
   "execution_count": null,
   "metadata": {
    "collapsed": true,
    "scrolled": true
   },
   "outputs": [],
   "source": [
    "startTime = time.time()\n",
    "for inputs, targets in trainCubes.fetchCubes(batchSize = 100, parallel = False):\n",
    "    print time.time() - startTime\n",
    "    startTime = time.time()"
   ]
  },
  {
   "cell_type": "code",
   "execution_count": null,
   "metadata": {
    "collapsed": true
   },
   "outputs": [],
   "source": [
    "startTime = time.time()\n",
    "for inputs, targets in trainCubes.fetchCubes(batchSize = 100, parallel = True):\n",
    "    print time.time() - startTime\n",
    "    startTime = time.time()"
   ]
  }
 ],
 "metadata": {
  "kernelspec": {
   "display_name": "Python 2",
   "language": "python",
   "name": "python2"
  },
  "language_info": {
   "codemirror_mode": {
    "name": "ipython",
    "version": 2
   },
   "file_extension": ".py",
   "mimetype": "text/x-python",
   "name": "python",
   "nbconvert_exporter": "python",
   "pygments_lexer": "ipython2",
   "version": "2.7.13"
  }
 },
 "nbformat": 4,
 "nbformat_minor": 2
}
